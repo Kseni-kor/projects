{
 "cells": [
  {
   "cell_type": "code",
   "execution_count": 1,
   "metadata": {},
   "outputs": [],
   "source": [
    "import pandas as pd\n",
    "import numpy as np \n",
    "import seaborn as sns\n",
    "\n",
    "import scipy\n",
    "import datetime as dt\n",
    "import matplotlib.pyplot as plt\n",
    "from matplotlib.ticker import PercentFormatter\n",
    "import scipy.stats as ss\n",
    "import statsmodels.api as sm\n",
    "import statsmodels.formula.api as smf\n",
    "from statsmodels.stats.api import anova_lm\n",
    "from statsmodels.stats.multicomp import (pairwise_tukeyhsd,\n",
    "                                         MultiComparison)\n",
    "\n",
    "import pingouin as pg\n",
    "import warnings\n",
    "warnings.filterwarnings(\"ignore\")"
   ]
  },
  {
   "cell_type": "markdown",
   "metadata": {},
   "source": [
    "#### Считываем данные для заданий"
   ]
  },
  {
   "cell_type": "code",
   "execution_count": 2,
   "metadata": {},
   "outputs": [],
   "source": [
    "visit = pd.read_csv('/mnt/HC_Volume_18315164/home-jupyter/jupyter-k-korovina/shared/problem1-auth_data.csv', sep=\";\")\n",
    "registration = pd.read_csv('/mnt/HC_Volume_18315164/home-jupyter/jupyter-k-korovina/shared/problem1-reg_data.csv', sep=\";\")"
   ]
  },
  {
   "cell_type": "code",
   "execution_count": 3,
   "metadata": {},
   "outputs": [],
   "source": [
    "test = pd.read_csv('/mnt/HC_Volume_18315164/home-jupyter/jupyter-k-korovina/finalka/Проект_1_Задание_2.csv', sep=';')"
   ]
  },
  {
   "cell_type": "markdown",
   "metadata": {},
   "source": [
    "## Проект: вариант 1\n",
    "Представьте, что вы работаете в компании, которая разрабатывает мобильные игры. К вам пришел менеджер с рядом задач по исследованию нескольких аспектов мобильного приложения:\n",
    "\n",
    "В первую очередь, его интересует показатель retention. Напишите функцию для его подсчета.\n",
    "Помимо этого, в компании провели A/B тестирование наборов акционных предложений. На основе имеющихся данных определите, какой набор можно считать лучшим и на основе каких метрик стоит принять правильное решение.\n",
    "Предложите метрики для оценки результатов последнего прошедшего тематического события в игре."
   ]
  },
  {
   "cell_type": "markdown",
   "metadata": {},
   "source": [
    "## Задание 1\n",
    "Retention – один из самых важных показателей в компании. Ваша задача – написать функцию, которая будет считать retention игроков (по дням от даты регистрации игрока)."
   ]
  },
  {
   "cell_type": "code",
   "execution_count": 4,
   "metadata": {},
   "outputs": [],
   "source": [
    "visit['auth_ts'] = pd.to_datetime(visit.auth_ts, unit='s')\n",
    "registration['reg_ts'] = pd.to_datetime(registration.reg_ts, unit='s')"
   ]
  },
  {
   "cell_type": "code",
   "execution_count": 5,
   "metadata": {},
   "outputs": [
    {
     "name": "stdout",
     "output_type": "stream",
     "text": [
      "<class 'pandas.core.frame.DataFrame'>\n",
      "RangeIndex: 9601013 entries, 0 to 9601012\n",
      "Data columns (total 2 columns):\n",
      " #   Column   Dtype         \n",
      "---  ------   -----         \n",
      " 0   auth_ts  datetime64[ns]\n",
      " 1   uid      int64         \n",
      "dtypes: datetime64[ns](1), int64(1)\n",
      "memory usage: 146.5 MB\n"
     ]
    }
   ],
   "source": [
    "visit.info()"
   ]
  },
  {
   "cell_type": "code",
   "execution_count": 6,
   "metadata": {},
   "outputs": [
    {
     "name": "stdout",
     "output_type": "stream",
     "text": [
      "<class 'pandas.core.frame.DataFrame'>\n",
      "RangeIndex: 1000000 entries, 0 to 999999\n",
      "Data columns (total 2 columns):\n",
      " #   Column  Non-Null Count    Dtype         \n",
      "---  ------  --------------    -----         \n",
      " 0   reg_ts  1000000 non-null  datetime64[ns]\n",
      " 1   uid     1000000 non-null  int64         \n",
      "dtypes: datetime64[ns](1), int64(1)\n",
      "memory usage: 15.3 MB\n"
     ]
    }
   ],
   "source": [
    "registration.info()"
   ]
  },
  {
   "cell_type": "code",
   "execution_count": 7,
   "metadata": {},
   "outputs": [],
   "source": [
    "df = pd.merge(left=registration, right=visit, how='outer', on='uid')"
   ]
  },
  {
   "cell_type": "code",
   "execution_count": 8,
   "metadata": {},
   "outputs": [
    {
     "data": {
      "text/html": [
       "<div>\n",
       "<style scoped>\n",
       "    .dataframe tbody tr th:only-of-type {\n",
       "        vertical-align: middle;\n",
       "    }\n",
       "\n",
       "    .dataframe tbody tr th {\n",
       "        vertical-align: top;\n",
       "    }\n",
       "\n",
       "    .dataframe thead th {\n",
       "        text-align: right;\n",
       "    }\n",
       "</style>\n",
       "<table border=\"1\" class=\"dataframe\">\n",
       "  <thead>\n",
       "    <tr style=\"text-align: right;\">\n",
       "      <th></th>\n",
       "      <th>reg_ts</th>\n",
       "      <th>uid</th>\n",
       "      <th>auth_ts</th>\n",
       "    </tr>\n",
       "  </thead>\n",
       "  <tbody>\n",
       "    <tr>\n",
       "      <th>0</th>\n",
       "      <td>1998-11-18 09:43:43</td>\n",
       "      <td>1</td>\n",
       "      <td>1998-11-18 09:43:43</td>\n",
       "    </tr>\n",
       "    <tr>\n",
       "      <th>1</th>\n",
       "      <td>1999-07-22 22:38:09</td>\n",
       "      <td>2</td>\n",
       "      <td>1999-07-22 22:38:09</td>\n",
       "    </tr>\n",
       "    <tr>\n",
       "      <th>2</th>\n",
       "      <td>1999-07-22 22:38:09</td>\n",
       "      <td>2</td>\n",
       "      <td>1999-07-25 16:46:46</td>\n",
       "    </tr>\n",
       "    <tr>\n",
       "      <th>3</th>\n",
       "      <td>1999-07-22 22:38:09</td>\n",
       "      <td>2</td>\n",
       "      <td>1999-07-31 03:50:15</td>\n",
       "    </tr>\n",
       "    <tr>\n",
       "      <th>4</th>\n",
       "      <td>1999-07-22 22:38:09</td>\n",
       "      <td>2</td>\n",
       "      <td>1999-08-05 17:49:39</td>\n",
       "    </tr>\n",
       "  </tbody>\n",
       "</table>\n",
       "</div>"
      ],
      "text/plain": [
       "               reg_ts  uid             auth_ts\n",
       "0 1998-11-18 09:43:43    1 1998-11-18 09:43:43\n",
       "1 1999-07-22 22:38:09    2 1999-07-22 22:38:09\n",
       "2 1999-07-22 22:38:09    2 1999-07-25 16:46:46\n",
       "3 1999-07-22 22:38:09    2 1999-07-31 03:50:15\n",
       "4 1999-07-22 22:38:09    2 1999-08-05 17:49:39"
      ]
     },
     "execution_count": 8,
     "metadata": {},
     "output_type": "execute_result"
    }
   ],
   "source": [
    "df.head()"
   ]
  },
  {
   "cell_type": "code",
   "execution_count": 9,
   "metadata": {},
   "outputs": [
    {
     "data": {
      "text/plain": [
       "reg_ts     1000000\n",
       "uid        1000000\n",
       "auth_ts    9180915\n",
       "dtype: int64"
      ]
     },
     "execution_count": 9,
     "metadata": {},
     "output_type": "execute_result"
    }
   ],
   "source": [
    "df.nunique()"
   ]
  },
  {
   "cell_type": "code",
   "execution_count": 10,
   "metadata": {},
   "outputs": [],
   "source": [
    "active = df.assign(return_day = ((df['auth_ts'] - df['reg_ts']).dt.days))"
   ]
  },
  {
   "cell_type": "code",
   "execution_count": 11,
   "metadata": {},
   "outputs": [
    {
     "data": {
      "image/png": "[encoded data removed]",
      "text/plain": [
       "<Figure size 432x288 with 1 Axes>"
      ]
     },
     "metadata": {
      "needs_background": "light"
     },
     "output_type": "display_data"
    }
   ],
   "source": [
    "active.return_day.plot(kind='hist', bins=20);"
   ]
  },
  {
   "cell_type": "code",
   "execution_count": 12,
   "metadata": {},
   "outputs": [
    {
     "data": {
      "text/plain": [
       "<matplotlib.axes._subplots.AxesSubplot at 0x7fa6247cce80>"
      ]
     },
     "execution_count": 12,
     "metadata": {},
     "output_type": "execute_result"
    },
    {
     "data": {
      "image/png": "[encoded data removed]",
      "text/plain": [
       "<Figure size 432x288 with 1 Axes>"
      ]
     },
     "metadata": {
      "needs_background": "light"
     },
     "output_type": "display_data"
    }
   ],
   "source": [
    "sns.distplot(active.query('return_day <= 150').return_day)"
   ]
  },
  {
   "cell_type": "code",
   "execution_count": 13,
   "metadata": {},
   "outputs": [
    {
     "data": {
      "image/png": "[encoded data removed]",
      "text/plain": [
       "<Figure size 432x288 with 1 Axes>"
      ]
     },
     "metadata": {
      "needs_background": "light"
     },
     "output_type": "display_data"
    }
   ],
   "source": [
    "sns.distplot(active.query('1 <= return_day <=15').return_day);"
   ]
  },
  {
   "cell_type": "markdown",
   "metadata": {},
   "source": [
    "Имеется необычное увеличение кол-ва игроков на 6 день"
   ]
  },
  {
   "cell_type": "markdown",
   "metadata": {},
   "source": [
    "#### Напишем функцию retention на весь период"
   ]
  },
  {
   "cell_type": "code",
   "execution_count": 14,
   "metadata": {},
   "outputs": [],
   "source": [
    "def retention(visit, registration, start=None, finish=None):\n",
    "    '''Принимает таблицы visit и registration, возвращает когортный анализ с долей верувшихся пользователей'''\n",
    "# Установим дату начала и окончания дат регестрации в игре\n",
    "    if start is None:\n",
    "        start = pd.to_datetime('2019-01-01')\n",
    "    if finish is None:\n",
    "        finish = pd.to_datetime('2019-01-18') #datetime.strptime(input('Дата окончания: '), '%Y-%m-%d').date()\n",
    "    \n",
    "    df = pd.merge(left=registration, right=visit, how='outer', on='uid')\n",
    "# Расчитываем кол-во дней с даты региспрации для каждой строки\n",
    "    active = df.assign(return_day = ((df['auth_ts'] - df['reg_ts']).dt.days))\n",
    "# создаем столбец, который станет когортой\n",
    "    active['reg_day'] = active['reg_ts'].dt.strftime('%Y-%m-%d')#когорта по дню: ('%Y-%m-%d'), месяцу:('%Y-%m') , году:('%Y')\n",
    "    \n",
    "# Отсортировываем по заданным датам\n",
    "    active = active.query(\"reg_ts >= @start and reg_ts <= @finish\")\n",
    "# создаем таблицу в которой храним столбец с размером когорт\n",
    "    c_size = active.groupby(['reg_day'], as_index=False).agg({'uid':'nunique'}).rename(columns={'uid':'cogort_size'})\n",
    "    \n",
    "# делим return_day на сегменты\n",
    "    active['segment'] = pd.cut(active.return_day, [ 0, 1, 7, 14, 21, 28, 56, 70, 112, 168, 280, 448, 560, 8000], \\\n",
    "      labels=['1 day', '1 week', '2 week', '3 week', '4 week', '4-8 week', '8-10 week', \\\n",
    "             '10-16 week', '16-24 week', '24-40 week', '40-64 week', '64-80 week', '80-1142 week']) #'0 day', \n",
    "    active['segment'] = active['segment'].astype(str) # преобразуем категориальный тип в object\n",
    "# группируем пользователей по дню регистрации, считаем кол-во уникальных пользователей в n день\n",
    "    cogort = active.groupby(['reg_day', 'segment'], as_index=False).agg({'uid':'nunique'}).rename(columns={'uid':'n_users'})\n",
    "\n",
    "# добавляем к основной таблице столбец с размером когорт\n",
    "    cogort = cogort.merge(c_size, how='left', on='reg_day')\n",
    "# создаем столбец с долей пользоаптелей, вошедших в n день\n",
    "    cogort['ret'] = cogort.n_users / cogort.cogort_size\n",
    "# разворачиваем таблицу\n",
    "    cogort = cogort.pivot(index='reg_day', columns='segment', values='ret')\n",
    "    cogort = cogort[['1 day', '1 week', '2 week', '3 week', '4 week', '4-8 week', '8-10 week', \\\n",
    "             '10-16 week', '16-24 week', '24-40 week', '40-64 week', '64-80 week', '80-1142 week']]\n",
    "\n",
    "    return cogort"
   ]
  },
  {
   "cell_type": "code",
   "execution_count": 15,
   "metadata": {},
   "outputs": [
    {
     "data": {
      "text/html": [
       "<div>\n",
       "<style scoped>\n",
       "    .dataframe tbody tr th:only-of-type {\n",
       "        vertical-align: middle;\n",
       "    }\n",
       "\n",
       "    .dataframe tbody tr th {\n",
       "        vertical-align: top;\n",
       "    }\n",
       "\n",
       "    .dataframe thead th {\n",
       "        text-align: right;\n",
       "    }\n",
       "</style>\n",
       "<table border=\"1\" class=\"dataframe\">\n",
       "  <thead>\n",
       "    <tr style=\"text-align: right;\">\n",
       "      <th>segment</th>\n",
       "      <th>1 day</th>\n",
       "      <th>1 week</th>\n",
       "      <th>2 week</th>\n",
       "      <th>3 week</th>\n",
       "      <th>4 week</th>\n",
       "      <th>4-8 week</th>\n",
       "      <th>8-10 week</th>\n",
       "      <th>10-16 week</th>\n",
       "      <th>16-24 week</th>\n",
       "      <th>24-40 week</th>\n",
       "      <th>40-64 week</th>\n",
       "      <th>64-80 week</th>\n",
       "      <th>80-1142 week</th>\n",
       "    </tr>\n",
       "    <tr>\n",
       "      <th>reg_day</th>\n",
       "      <th></th>\n",
       "      <th></th>\n",
       "      <th></th>\n",
       "      <th></th>\n",
       "      <th></th>\n",
       "      <th></th>\n",
       "      <th></th>\n",
       "      <th></th>\n",
       "      <th></th>\n",
       "      <th></th>\n",
       "      <th></th>\n",
       "      <th></th>\n",
       "      <th></th>\n",
       "    </tr>\n",
       "  </thead>\n",
       "  <tbody>\n",
       "    <tr>\n",
       "      <th>2019-01-01</th>\n",
       "      <td>0.034305</td>\n",
       "      <td>0.246998</td>\n",
       "      <td>0.216123</td>\n",
       "      <td>0.183533</td>\n",
       "      <td>0.152659</td>\n",
       "      <td>0.113208</td>\n",
       "      <td>0.048027</td>\n",
       "      <td>0.048027</td>\n",
       "      <td>0.048027</td>\n",
       "      <td>0.048027</td>\n",
       "      <td>0.048027</td>\n",
       "      <td>0.048027</td>\n",
       "      <td>0.048027</td>\n",
       "    </tr>\n",
       "    <tr>\n",
       "      <th>2019-01-02</th>\n",
       "      <td>0.036021</td>\n",
       "      <td>0.228130</td>\n",
       "      <td>0.202401</td>\n",
       "      <td>0.169811</td>\n",
       "      <td>0.133791</td>\n",
       "      <td>0.099485</td>\n",
       "      <td>0.053173</td>\n",
       "      <td>0.053173</td>\n",
       "      <td>0.053173</td>\n",
       "      <td>0.053173</td>\n",
       "      <td>0.053173</td>\n",
       "      <td>0.053173</td>\n",
       "      <td>0.053173</td>\n",
       "    </tr>\n",
       "    <tr>\n",
       "      <th>2019-01-03</th>\n",
       "      <td>0.030769</td>\n",
       "      <td>0.229060</td>\n",
       "      <td>0.193162</td>\n",
       "      <td>0.165812</td>\n",
       "      <td>0.136752</td>\n",
       "      <td>0.109402</td>\n",
       "      <td>0.054701</td>\n",
       "      <td>0.052991</td>\n",
       "      <td>0.052991</td>\n",
       "      <td>0.052991</td>\n",
       "      <td>0.052991</td>\n",
       "      <td>0.052991</td>\n",
       "      <td>0.052991</td>\n",
       "    </tr>\n",
       "    <tr>\n",
       "      <th>2019-01-04</th>\n",
       "      <td>0.044444</td>\n",
       "      <td>0.227350</td>\n",
       "      <td>0.215385</td>\n",
       "      <td>0.179487</td>\n",
       "      <td>0.152137</td>\n",
       "      <td>0.112821</td>\n",
       "      <td>0.039316</td>\n",
       "      <td>0.039316</td>\n",
       "      <td>0.039316</td>\n",
       "      <td>0.039316</td>\n",
       "      <td>0.039316</td>\n",
       "      <td>0.039316</td>\n",
       "      <td>0.039316</td>\n",
       "    </tr>\n",
       "    <tr>\n",
       "      <th>2019-01-05</th>\n",
       "      <td>0.032423</td>\n",
       "      <td>0.252560</td>\n",
       "      <td>0.223549</td>\n",
       "      <td>0.189420</td>\n",
       "      <td>0.153584</td>\n",
       "      <td>0.122867</td>\n",
       "      <td>0.059727</td>\n",
       "      <td>0.059727</td>\n",
       "      <td>0.059727</td>\n",
       "      <td>0.059727</td>\n",
       "      <td>0.059727</td>\n",
       "      <td>0.059727</td>\n",
       "      <td>0.059727</td>\n",
       "    </tr>\n",
       "  </tbody>\n",
       "</table>\n",
       "</div>"
      ],
      "text/plain": [
       "segment        1 day    1 week    2 week    3 week    4 week  4-8 week  \\\n",
       "reg_day                                                                  \n",
       "2019-01-01  0.034305  0.246998  0.216123  0.183533  0.152659  0.113208   \n",
       "2019-01-02  0.036021  0.228130  0.202401  0.169811  0.133791  0.099485   \n",
       "2019-01-03  0.030769  0.229060  0.193162  0.165812  0.136752  0.109402   \n",
       "2019-01-04  0.044444  0.227350  0.215385  0.179487  0.152137  0.112821   \n",
       "2019-01-05  0.032423  0.252560  0.223549  0.189420  0.153584  0.122867   \n",
       "\n",
       "segment     8-10 week  10-16 week  16-24 week  24-40 week  40-64 week  \\\n",
       "reg_day                                                                 \n",
       "2019-01-01   0.048027    0.048027    0.048027    0.048027    0.048027   \n",
       "2019-01-02   0.053173    0.053173    0.053173    0.053173    0.053173   \n",
       "2019-01-03   0.054701    0.052991    0.052991    0.052991    0.052991   \n",
       "2019-01-04   0.039316    0.039316    0.039316    0.039316    0.039316   \n",
       "2019-01-05   0.059727    0.059727    0.059727    0.059727    0.059727   \n",
       "\n",
       "segment     64-80 week  80-1142 week  \n",
       "reg_day                               \n",
       "2019-01-01    0.048027      0.048027  \n",
       "2019-01-02    0.053173      0.053173  \n",
       "2019-01-03    0.052991      0.052991  \n",
       "2019-01-04    0.039316      0.039316  \n",
       "2019-01-05    0.059727      0.059727  "
      ]
     },
     "execution_count": 15,
     "metadata": {},
     "output_type": "execute_result"
    }
   ],
   "source": [
    "retention(visit, registration).head()"
   ]
  },
  {
   "cell_type": "code",
   "execution_count": 16,
   "metadata": {},
   "outputs": [
    {
     "data": {
      "text/html": [
       "<style  type=\"text/css\" >\n",
       "#T_5f5d6bc8_c8ec_11ee_bdbb_96000040dfb6row0_col0{\n",
       "            background-color:  #2e6e8e;\n",
       "            color:  #f1f1f1;\n",
       "        }#T_5f5d6bc8_c8ec_11ee_bdbb_96000040dfb6row0_col1{\n",
       "            background-color:  #23898e;\n",
       "            color:  #000000;\n",
       "        }#T_5f5d6bc8_c8ec_11ee_bdbb_96000040dfb6row0_col2,#T_5f5d6bc8_c8ec_11ee_bdbb_96000040dfb6row7_col6,#T_5f5d6bc8_c8ec_11ee_bdbb_96000040dfb6row7_col7,#T_5f5d6bc8_c8ec_11ee_bdbb_96000040dfb6row7_col8,#T_5f5d6bc8_c8ec_11ee_bdbb_96000040dfb6row7_col9,#T_5f5d6bc8_c8ec_11ee_bdbb_96000040dfb6row7_col10,#T_5f5d6bc8_c8ec_11ee_bdbb_96000040dfb6row7_col11,#T_5f5d6bc8_c8ec_11ee_bdbb_96000040dfb6row7_col12{\n",
       "            background-color:  #297a8e;\n",
       "            color:  #000000;\n",
       "        }#T_5f5d6bc8_c8ec_11ee_bdbb_96000040dfb6row0_col3,#T_5f5d6bc8_c8ec_11ee_bdbb_96000040dfb6row7_col2{\n",
       "            background-color:  #218e8d;\n",
       "            color:  #000000;\n",
       "        }#T_5f5d6bc8_c8ec_11ee_bdbb_96000040dfb6row0_col4,#T_5f5d6bc8_c8ec_11ee_bdbb_96000040dfb6row6_col2{\n",
       "            background-color:  #26818e;\n",
       "            color:  #000000;\n",
       "        }#T_5f5d6bc8_c8ec_11ee_bdbb_96000040dfb6row0_col5,#T_5f5d6bc8_c8ec_11ee_bdbb_96000040dfb6row1_col3{\n",
       "            background-color:  #355e8d;\n",
       "            color:  #f1f1f1;\n",
       "        }#T_5f5d6bc8_c8ec_11ee_bdbb_96000040dfb6row0_col6,#T_5f5d6bc8_c8ec_11ee_bdbb_96000040dfb6row0_col7,#T_5f5d6bc8_c8ec_11ee_bdbb_96000040dfb6row0_col8,#T_5f5d6bc8_c8ec_11ee_bdbb_96000040dfb6row0_col9,#T_5f5d6bc8_c8ec_11ee_bdbb_96000040dfb6row0_col10,#T_5f5d6bc8_c8ec_11ee_bdbb_96000040dfb6row0_col11,#T_5f5d6bc8_c8ec_11ee_bdbb_96000040dfb6row0_col12,#T_5f5d6bc8_c8ec_11ee_bdbb_96000040dfb6row4_col0{\n",
       "            background-color:  #33628d;\n",
       "            color:  #f1f1f1;\n",
       "        }#T_5f5d6bc8_c8ec_11ee_bdbb_96000040dfb6row1_col0,#T_5f5d6bc8_c8ec_11ee_bdbb_96000040dfb6row11_col5{\n",
       "            background-color:  #2a788e;\n",
       "            color:  #000000;\n",
       "        }#T_5f5d6bc8_c8ec_11ee_bdbb_96000040dfb6row1_col1{\n",
       "            background-color:  #3e4c8a;\n",
       "            color:  #f1f1f1;\n",
       "        }#T_5f5d6bc8_c8ec_11ee_bdbb_96000040dfb6row1_col2{\n",
       "            background-color:  #453882;\n",
       "            color:  #f1f1f1;\n",
       "        }#T_5f5d6bc8_c8ec_11ee_bdbb_96000040dfb6row1_col4{\n",
       "            background-color:  #46337f;\n",
       "            color:  #f1f1f1;\n",
       "        }#T_5f5d6bc8_c8ec_11ee_bdbb_96000040dfb6row1_col5,#T_5f5d6bc8_c8ec_11ee_bdbb_96000040dfb6row2_col2,#T_5f5d6bc8_c8ec_11ee_bdbb_96000040dfb6row8_col0,#T_5f5d6bc8_c8ec_11ee_bdbb_96000040dfb6row8_col1,#T_5f5d6bc8_c8ec_11ee_bdbb_96000040dfb6row8_col2,#T_5f5d6bc8_c8ec_11ee_bdbb_96000040dfb6row8_col3,#T_5f5d6bc8_c8ec_11ee_bdbb_96000040dfb6row13_col4,#T_5f5d6bc8_c8ec_11ee_bdbb_96000040dfb6row13_col6,#T_5f5d6bc8_c8ec_11ee_bdbb_96000040dfb6row13_col7,#T_5f5d6bc8_c8ec_11ee_bdbb_96000040dfb6row13_col8,#T_5f5d6bc8_c8ec_11ee_bdbb_96000040dfb6row13_col9,#T_5f5d6bc8_c8ec_11ee_bdbb_96000040dfb6row13_col10,#T_5f5d6bc8_c8ec_11ee_bdbb_96000040dfb6row13_col11,#T_5f5d6bc8_c8ec_11ee_bdbb_96000040dfb6row13_col12{\n",
       "            background-color:  #440154;\n",
       "            color:  #f1f1f1;\n",
       "        }#T_5f5d6bc8_c8ec_11ee_bdbb_96000040dfb6row1_col6,#T_5f5d6bc8_c8ec_11ee_bdbb_96000040dfb6row1_col7,#T_5f5d6bc8_c8ec_11ee_bdbb_96000040dfb6row1_col8,#T_5f5d6bc8_c8ec_11ee_bdbb_96000040dfb6row1_col9,#T_5f5d6bc8_c8ec_11ee_bdbb_96000040dfb6row1_col10,#T_5f5d6bc8_c8ec_11ee_bdbb_96000040dfb6row1_col11,#T_5f5d6bc8_c8ec_11ee_bdbb_96000040dfb6row1_col12{\n",
       "            background-color:  #228c8d;\n",
       "            color:  #000000;\n",
       "        }#T_5f5d6bc8_c8ec_11ee_bdbb_96000040dfb6row2_col0,#T_5f5d6bc8_c8ec_11ee_bdbb_96000040dfb6row13_col3{\n",
       "            background-color:  #39568c;\n",
       "            color:  #f1f1f1;\n",
       "        }#T_5f5d6bc8_c8ec_11ee_bdbb_96000040dfb6row2_col1{\n",
       "            background-color:  #3c508b;\n",
       "            color:  #f1f1f1;\n",
       "        }#T_5f5d6bc8_c8ec_11ee_bdbb_96000040dfb6row2_col3,#T_5f5d6bc8_c8ec_11ee_bdbb_96000040dfb6row13_col1{\n",
       "            background-color:  #3d4e8a;\n",
       "            color:  #f1f1f1;\n",
       "        }#T_5f5d6bc8_c8ec_11ee_bdbb_96000040dfb6row2_col4,#T_5f5d6bc8_c8ec_11ee_bdbb_96000040dfb6row9_col1,#T_5f5d6bc8_c8ec_11ee_bdbb_96000040dfb6row9_col3,#T_5f5d6bc8_c8ec_11ee_bdbb_96000040dfb6row9_col5{\n",
       "            background-color:  #424086;\n",
       "            color:  #f1f1f1;\n",
       "        }#T_5f5d6bc8_c8ec_11ee_bdbb_96000040dfb6row2_col5{\n",
       "            background-color:  #3f4788;\n",
       "            color:  #f1f1f1;\n",
       "        }#T_5f5d6bc8_c8ec_11ee_bdbb_96000040dfb6row2_col6,#T_5f5d6bc8_c8ec_11ee_bdbb_96000040dfb6row6_col1{\n",
       "            background-color:  #1f988b;\n",
       "            color:  #000000;\n",
       "        }#T_5f5d6bc8_c8ec_11ee_bdbb_96000040dfb6row2_col7,#T_5f5d6bc8_c8ec_11ee_bdbb_96000040dfb6row2_col8,#T_5f5d6bc8_c8ec_11ee_bdbb_96000040dfb6row2_col9,#T_5f5d6bc8_c8ec_11ee_bdbb_96000040dfb6row2_col10,#T_5f5d6bc8_c8ec_11ee_bdbb_96000040dfb6row2_col11,#T_5f5d6bc8_c8ec_11ee_bdbb_96000040dfb6row2_col12{\n",
       "            background-color:  #228b8d;\n",
       "            color:  #000000;\n",
       "        }#T_5f5d6bc8_c8ec_11ee_bdbb_96000040dfb6row3_col0,#T_5f5d6bc8_c8ec_11ee_bdbb_96000040dfb6row10_col1{\n",
       "            background-color:  #25ac82;\n",
       "            color:  #000000;\n",
       "        }#T_5f5d6bc8_c8ec_11ee_bdbb_96000040dfb6row3_col1{\n",
       "            background-color:  #3e4989;\n",
       "            color:  #f1f1f1;\n",
       "        }#T_5f5d6bc8_c8ec_11ee_bdbb_96000040dfb6row3_col2,#T_5f5d6bc8_c8ec_11ee_bdbb_96000040dfb6row6_col0{\n",
       "            background-color:  #2a768e;\n",
       "            color:  #f1f1f1;\n",
       "        }#T_5f5d6bc8_c8ec_11ee_bdbb_96000040dfb6row3_col3{\n",
       "            background-color:  #27808e;\n",
       "            color:  #000000;\n",
       "        }#T_5f5d6bc8_c8ec_11ee_bdbb_96000040dfb6row3_col4,#T_5f5d6bc8_c8ec_11ee_bdbb_96000040dfb6row11_col0{\n",
       "            background-color:  #277f8e;\n",
       "            color:  #000000;\n",
       "        }#T_5f5d6bc8_c8ec_11ee_bdbb_96000040dfb6row3_col5,#T_5f5d6bc8_c8ec_11ee_bdbb_96000040dfb6row10_col6,#T_5f5d6bc8_c8ec_11ee_bdbb_96000040dfb6row10_col7,#T_5f5d6bc8_c8ec_11ee_bdbb_96000040dfb6row10_col8,#T_5f5d6bc8_c8ec_11ee_bdbb_96000040dfb6row10_col9,#T_5f5d6bc8_c8ec_11ee_bdbb_96000040dfb6row10_col10,#T_5f5d6bc8_c8ec_11ee_bdbb_96000040dfb6row10_col11,#T_5f5d6bc8_c8ec_11ee_bdbb_96000040dfb6row10_col12{\n",
       "            background-color:  #365c8d;\n",
       "            color:  #f1f1f1;\n",
       "        }#T_5f5d6bc8_c8ec_11ee_bdbb_96000040dfb6row3_col6,#T_5f5d6bc8_c8ec_11ee_bdbb_96000040dfb6row3_col7,#T_5f5d6bc8_c8ec_11ee_bdbb_96000040dfb6row3_col8,#T_5f5d6bc8_c8ec_11ee_bdbb_96000040dfb6row3_col9,#T_5f5d6bc8_c8ec_11ee_bdbb_96000040dfb6row3_col10,#T_5f5d6bc8_c8ec_11ee_bdbb_96000040dfb6row3_col11,#T_5f5d6bc8_c8ec_11ee_bdbb_96000040dfb6row3_col12{\n",
       "            background-color:  #46085c;\n",
       "            color:  #f1f1f1;\n",
       "        }#T_5f5d6bc8_c8ec_11ee_bdbb_96000040dfb6row4_col1{\n",
       "            background-color:  #1e9b8a;\n",
       "            color:  #000000;\n",
       "        }#T_5f5d6bc8_c8ec_11ee_bdbb_96000040dfb6row4_col2{\n",
       "            background-color:  #1f998a;\n",
       "            color:  #000000;\n",
       "        }#T_5f5d6bc8_c8ec_11ee_bdbb_96000040dfb6row4_col3{\n",
       "            background-color:  #1fa187;\n",
       "            color:  #000000;\n",
       "        }#T_5f5d6bc8_c8ec_11ee_bdbb_96000040dfb6row4_col4{\n",
       "            background-color:  #25848e;\n",
       "            color:  #000000;\n",
       "        }#T_5f5d6bc8_c8ec_11ee_bdbb_96000040dfb6row4_col5{\n",
       "            background-color:  #20928c;\n",
       "            color:  #000000;\n",
       "        }#T_5f5d6bc8_c8ec_11ee_bdbb_96000040dfb6row4_col6,#T_5f5d6bc8_c8ec_11ee_bdbb_96000040dfb6row4_col7,#T_5f5d6bc8_c8ec_11ee_bdbb_96000040dfb6row4_col8,#T_5f5d6bc8_c8ec_11ee_bdbb_96000040dfb6row4_col9,#T_5f5d6bc8_c8ec_11ee_bdbb_96000040dfb6row4_col10,#T_5f5d6bc8_c8ec_11ee_bdbb_96000040dfb6row4_col11,#T_5f5d6bc8_c8ec_11ee_bdbb_96000040dfb6row4_col12,#T_5f5d6bc8_c8ec_11ee_bdbb_96000040dfb6row10_col2{\n",
       "            background-color:  #44bf70;\n",
       "            color:  #000000;\n",
       "        }#T_5f5d6bc8_c8ec_11ee_bdbb_96000040dfb6row5_col0{\n",
       "            background-color:  #2f6c8e;\n",
       "            color:  #f1f1f1;\n",
       "        }#T_5f5d6bc8_c8ec_11ee_bdbb_96000040dfb6row5_col1{\n",
       "            background-color:  #404588;\n",
       "            color:  #f1f1f1;\n",
       "        }#T_5f5d6bc8_c8ec_11ee_bdbb_96000040dfb6row5_col2{\n",
       "            background-color:  #472f7d;\n",
       "            color:  #f1f1f1;\n",
       "        }#T_5f5d6bc8_c8ec_11ee_bdbb_96000040dfb6row5_col3,#T_5f5d6bc8_c8ec_11ee_bdbb_96000040dfb6row16_col5{\n",
       "            background-color:  #38588c;\n",
       "            color:  #f1f1f1;\n",
       "        }#T_5f5d6bc8_c8ec_11ee_bdbb_96000040dfb6row5_col4{\n",
       "            background-color:  #453581;\n",
       "            color:  #f1f1f1;\n",
       "        }#T_5f5d6bc8_c8ec_11ee_bdbb_96000040dfb6row5_col5{\n",
       "            background-color:  #46075a;\n",
       "            color:  #f1f1f1;\n",
       "        }#T_5f5d6bc8_c8ec_11ee_bdbb_96000040dfb6row5_col6,#T_5f5d6bc8_c8ec_11ee_bdbb_96000040dfb6row5_col7,#T_5f5d6bc8_c8ec_11ee_bdbb_96000040dfb6row5_col8,#T_5f5d6bc8_c8ec_11ee_bdbb_96000040dfb6row5_col9,#T_5f5d6bc8_c8ec_11ee_bdbb_96000040dfb6row5_col10,#T_5f5d6bc8_c8ec_11ee_bdbb_96000040dfb6row5_col11,#T_5f5d6bc8_c8ec_11ee_bdbb_96000040dfb6row5_col12{\n",
       "            background-color:  #297b8e;\n",
       "            color:  #000000;\n",
       "        }#T_5f5d6bc8_c8ec_11ee_bdbb_96000040dfb6row6_col3{\n",
       "            background-color:  #287d8e;\n",
       "            color:  #000000;\n",
       "        }#T_5f5d6bc8_c8ec_11ee_bdbb_96000040dfb6row6_col4{\n",
       "            background-color:  #375b8d;\n",
       "            color:  #f1f1f1;\n",
       "        }#T_5f5d6bc8_c8ec_11ee_bdbb_96000040dfb6row6_col5{\n",
       "            background-color:  #33638d;\n",
       "            color:  #f1f1f1;\n",
       "        }#T_5f5d6bc8_c8ec_11ee_bdbb_96000040dfb6row6_col6,#T_5f5d6bc8_c8ec_11ee_bdbb_96000040dfb6row6_col7,#T_5f5d6bc8_c8ec_11ee_bdbb_96000040dfb6row6_col8,#T_5f5d6bc8_c8ec_11ee_bdbb_96000040dfb6row6_col9,#T_5f5d6bc8_c8ec_11ee_bdbb_96000040dfb6row6_col10,#T_5f5d6bc8_c8ec_11ee_bdbb_96000040dfb6row6_col11,#T_5f5d6bc8_c8ec_11ee_bdbb_96000040dfb6row6_col12{\n",
       "            background-color:  #355f8d;\n",
       "            color:  #f1f1f1;\n",
       "        }#T_5f5d6bc8_c8ec_11ee_bdbb_96000040dfb6row7_col0,#T_5f5d6bc8_c8ec_11ee_bdbb_96000040dfb6row15_col1,#T_5f5d6bc8_c8ec_11ee_bdbb_96000040dfb6row15_col2,#T_5f5d6bc8_c8ec_11ee_bdbb_96000040dfb6row15_col3,#T_5f5d6bc8_c8ec_11ee_bdbb_96000040dfb6row15_col4,#T_5f5d6bc8_c8ec_11ee_bdbb_96000040dfb6row15_col5,#T_5f5d6bc8_c8ec_11ee_bdbb_96000040dfb6row15_col6,#T_5f5d6bc8_c8ec_11ee_bdbb_96000040dfb6row15_col7,#T_5f5d6bc8_c8ec_11ee_bdbb_96000040dfb6row15_col8,#T_5f5d6bc8_c8ec_11ee_bdbb_96000040dfb6row15_col9,#T_5f5d6bc8_c8ec_11ee_bdbb_96000040dfb6row15_col10,#T_5f5d6bc8_c8ec_11ee_bdbb_96000040dfb6row15_col11,#T_5f5d6bc8_c8ec_11ee_bdbb_96000040dfb6row15_col12{\n",
       "            background-color:  #fde725;\n",
       "            color:  #000000;\n",
       "        }#T_5f5d6bc8_c8ec_11ee_bdbb_96000040dfb6row7_col1,#T_5f5d6bc8_c8ec_11ee_bdbb_96000040dfb6row7_col3,#T_5f5d6bc8_c8ec_11ee_bdbb_96000040dfb6row11_col1{\n",
       "            background-color:  #26828e;\n",
       "            color:  #000000;\n",
       "        }#T_5f5d6bc8_c8ec_11ee_bdbb_96000040dfb6row7_col4{\n",
       "            background-color:  #2e6f8e;\n",
       "            color:  #f1f1f1;\n",
       "        }#T_5f5d6bc8_c8ec_11ee_bdbb_96000040dfb6row7_col5,#T_5f5d6bc8_c8ec_11ee_bdbb_96000040dfb6row16_col3{\n",
       "            background-color:  #34618d;\n",
       "            color:  #f1f1f1;\n",
       "        }#T_5f5d6bc8_c8ec_11ee_bdbb_96000040dfb6row8_col4{\n",
       "            background-color:  #481a6c;\n",
       "            color:  #f1f1f1;\n",
       "        }#T_5f5d6bc8_c8ec_11ee_bdbb_96000040dfb6row8_col5{\n",
       "            background-color:  #450457;\n",
       "            color:  #f1f1f1;\n",
       "        }#T_5f5d6bc8_c8ec_11ee_bdbb_96000040dfb6row8_col6,#T_5f5d6bc8_c8ec_11ee_bdbb_96000040dfb6row8_col7,#T_5f5d6bc8_c8ec_11ee_bdbb_96000040dfb6row8_col8,#T_5f5d6bc8_c8ec_11ee_bdbb_96000040dfb6row8_col9,#T_5f5d6bc8_c8ec_11ee_bdbb_96000040dfb6row8_col10,#T_5f5d6bc8_c8ec_11ee_bdbb_96000040dfb6row8_col11,#T_5f5d6bc8_c8ec_11ee_bdbb_96000040dfb6row8_col12{\n",
       "            background-color:  #29798e;\n",
       "            color:  #000000;\n",
       "        }#T_5f5d6bc8_c8ec_11ee_bdbb_96000040dfb6row9_col0{\n",
       "            background-color:  #6ece58;\n",
       "            color:  #000000;\n",
       "        }#T_5f5d6bc8_c8ec_11ee_bdbb_96000040dfb6row9_col2{\n",
       "            background-color:  #481668;\n",
       "            color:  #f1f1f1;\n",
       "        }#T_5f5d6bc8_c8ec_11ee_bdbb_96000040dfb6row9_col4{\n",
       "            background-color:  #414287;\n",
       "            color:  #f1f1f1;\n",
       "        }#T_5f5d6bc8_c8ec_11ee_bdbb_96000040dfb6row9_col6,#T_5f5d6bc8_c8ec_11ee_bdbb_96000040dfb6row9_col7,#T_5f5d6bc8_c8ec_11ee_bdbb_96000040dfb6row9_col8,#T_5f5d6bc8_c8ec_11ee_bdbb_96000040dfb6row9_col9,#T_5f5d6bc8_c8ec_11ee_bdbb_96000040dfb6row9_col10,#T_5f5d6bc8_c8ec_11ee_bdbb_96000040dfb6row9_col11,#T_5f5d6bc8_c8ec_11ee_bdbb_96000040dfb6row9_col12{\n",
       "            background-color:  #1f948c;\n",
       "            color:  #000000;\n",
       "        }#T_5f5d6bc8_c8ec_11ee_bdbb_96000040dfb6row10_col0{\n",
       "            background-color:  #2eb37c;\n",
       "            color:  #000000;\n",
       "        }#T_5f5d6bc8_c8ec_11ee_bdbb_96000040dfb6row10_col3{\n",
       "            background-color:  #2cb17e;\n",
       "            color:  #000000;\n",
       "        }#T_5f5d6bc8_c8ec_11ee_bdbb_96000040dfb6row10_col4{\n",
       "            background-color:  #1f968b;\n",
       "            color:  #000000;\n",
       "        }#T_5f5d6bc8_c8ec_11ee_bdbb_96000040dfb6row10_col5{\n",
       "            background-color:  #2d708e;\n",
       "            color:  #f1f1f1;\n",
       "        }#T_5f5d6bc8_c8ec_11ee_bdbb_96000040dfb6row11_col2{\n",
       "            background-color:  #1e9d89;\n",
       "            color:  #000000;\n",
       "        }#T_5f5d6bc8_c8ec_11ee_bdbb_96000040dfb6row11_col3{\n",
       "            background-color:  #21a585;\n",
       "            color:  #000000;\n",
       "        }#T_5f5d6bc8_c8ec_11ee_bdbb_96000040dfb6row11_col4{\n",
       "            background-color:  #2a778e;\n",
       "            color:  #000000;\n",
       "        }#T_5f5d6bc8_c8ec_11ee_bdbb_96000040dfb6row11_col6,#T_5f5d6bc8_c8ec_11ee_bdbb_96000040dfb6row11_col7,#T_5f5d6bc8_c8ec_11ee_bdbb_96000040dfb6row11_col8,#T_5f5d6bc8_c8ec_11ee_bdbb_96000040dfb6row11_col9,#T_5f5d6bc8_c8ec_11ee_bdbb_96000040dfb6row11_col10,#T_5f5d6bc8_c8ec_11ee_bdbb_96000040dfb6row11_col11,#T_5f5d6bc8_c8ec_11ee_bdbb_96000040dfb6row11_col12{\n",
       "            background-color:  #27ad81;\n",
       "            color:  #000000;\n",
       "        }#T_5f5d6bc8_c8ec_11ee_bdbb_96000040dfb6row12_col0{\n",
       "            background-color:  #1f9e89;\n",
       "            color:  #000000;\n",
       "        }#T_5f5d6bc8_c8ec_11ee_bdbb_96000040dfb6row12_col1{\n",
       "            background-color:  #8bd646;\n",
       "            color:  #000000;\n",
       "        }#T_5f5d6bc8_c8ec_11ee_bdbb_96000040dfb6row12_col2{\n",
       "            background-color:  #fbe723;\n",
       "            color:  #000000;\n",
       "        }#T_5f5d6bc8_c8ec_11ee_bdbb_96000040dfb6row12_col3{\n",
       "            background-color:  #89d548;\n",
       "            color:  #000000;\n",
       "        }#T_5f5d6bc8_c8ec_11ee_bdbb_96000040dfb6row12_col4{\n",
       "            background-color:  #7fd34e;\n",
       "            color:  #000000;\n",
       "        }#T_5f5d6bc8_c8ec_11ee_bdbb_96000040dfb6row12_col5{\n",
       "            background-color:  #2fb47c;\n",
       "            color:  #000000;\n",
       "        }#T_5f5d6bc8_c8ec_11ee_bdbb_96000040dfb6row12_col6,#T_5f5d6bc8_c8ec_11ee_bdbb_96000040dfb6row12_col7,#T_5f5d6bc8_c8ec_11ee_bdbb_96000040dfb6row12_col8,#T_5f5d6bc8_c8ec_11ee_bdbb_96000040dfb6row12_col9,#T_5f5d6bc8_c8ec_11ee_bdbb_96000040dfb6row12_col10,#T_5f5d6bc8_c8ec_11ee_bdbb_96000040dfb6row12_col11,#T_5f5d6bc8_c8ec_11ee_bdbb_96000040dfb6row12_col12{\n",
       "            background-color:  #54c568;\n",
       "            color:  #000000;\n",
       "        }#T_5f5d6bc8_c8ec_11ee_bdbb_96000040dfb6row13_col0{\n",
       "            background-color:  #30698e;\n",
       "            color:  #f1f1f1;\n",
       "        }#T_5f5d6bc8_c8ec_11ee_bdbb_96000040dfb6row13_col2{\n",
       "            background-color:  #482173;\n",
       "            color:  #f1f1f1;\n",
       "        }#T_5f5d6bc8_c8ec_11ee_bdbb_96000040dfb6row13_col5{\n",
       "            background-color:  #460b5e;\n",
       "            color:  #f1f1f1;\n",
       "        }#T_5f5d6bc8_c8ec_11ee_bdbb_96000040dfb6row14_col0{\n",
       "            background-color:  #3b528b;\n",
       "            color:  #f1f1f1;\n",
       "        }#T_5f5d6bc8_c8ec_11ee_bdbb_96000040dfb6row14_col1{\n",
       "            background-color:  #3bbb75;\n",
       "            color:  #000000;\n",
       "        }#T_5f5d6bc8_c8ec_11ee_bdbb_96000040dfb6row14_col2{\n",
       "            background-color:  #58c765;\n",
       "            color:  #000000;\n",
       "        }#T_5f5d6bc8_c8ec_11ee_bdbb_96000040dfb6row14_col3{\n",
       "            background-color:  #21918c;\n",
       "            color:  #000000;\n",
       "        }#T_5f5d6bc8_c8ec_11ee_bdbb_96000040dfb6row14_col4{\n",
       "            background-color:  #433d84;\n",
       "            color:  #f1f1f1;\n",
       "        }#T_5f5d6bc8_c8ec_11ee_bdbb_96000040dfb6row14_col5{\n",
       "            background-color:  #2e6d8e;\n",
       "            color:  #f1f1f1;\n",
       "        }#T_5f5d6bc8_c8ec_11ee_bdbb_96000040dfb6row14_col6,#T_5f5d6bc8_c8ec_11ee_bdbb_96000040dfb6row14_col7,#T_5f5d6bc8_c8ec_11ee_bdbb_96000040dfb6row14_col8,#T_5f5d6bc8_c8ec_11ee_bdbb_96000040dfb6row14_col9,#T_5f5d6bc8_c8ec_11ee_bdbb_96000040dfb6row14_col10,#T_5f5d6bc8_c8ec_11ee_bdbb_96000040dfb6row14_col11,#T_5f5d6bc8_c8ec_11ee_bdbb_96000040dfb6row14_col12{\n",
       "            background-color:  #2b758e;\n",
       "            color:  #f1f1f1;\n",
       "        }#T_5f5d6bc8_c8ec_11ee_bdbb_96000040dfb6row15_col0{\n",
       "            background-color:  #277e8e;\n",
       "            color:  #000000;\n",
       "        }#T_5f5d6bc8_c8ec_11ee_bdbb_96000040dfb6row16_col0,#T_5f5d6bc8_c8ec_11ee_bdbb_96000040dfb6row16_col6,#T_5f5d6bc8_c8ec_11ee_bdbb_96000040dfb6row16_col7,#T_5f5d6bc8_c8ec_11ee_bdbb_96000040dfb6row16_col8,#T_5f5d6bc8_c8ec_11ee_bdbb_96000040dfb6row16_col9,#T_5f5d6bc8_c8ec_11ee_bdbb_96000040dfb6row16_col10,#T_5f5d6bc8_c8ec_11ee_bdbb_96000040dfb6row16_col11,#T_5f5d6bc8_c8ec_11ee_bdbb_96000040dfb6row16_col12{\n",
       "            background-color:  #1e9c89;\n",
       "            color:  #000000;\n",
       "        }#T_5f5d6bc8_c8ec_11ee_bdbb_96000040dfb6row16_col1{\n",
       "            background-color:  #481b6d;\n",
       "            color:  #f1f1f1;\n",
       "        }#T_5f5d6bc8_c8ec_11ee_bdbb_96000040dfb6row16_col2{\n",
       "            background-color:  #424186;\n",
       "            color:  #f1f1f1;\n",
       "        }#T_5f5d6bc8_c8ec_11ee_bdbb_96000040dfb6row16_col4{\n",
       "            background-color:  #38598c;\n",
       "            color:  #f1f1f1;\n",
       "        }</style><table id=\"T_5f5d6bc8_c8ec_11ee_bdbb_96000040dfb6\" ><caption>User retention by cohort</caption><thead>    <tr>        <th class=\"index_name level0\" >segment</th>        <th class=\"col_heading level0 col0\" >1 day</th>        <th class=\"col_heading level0 col1\" >1 week</th>        <th class=\"col_heading level0 col2\" >2 week</th>        <th class=\"col_heading level0 col3\" >3 week</th>        <th class=\"col_heading level0 col4\" >4 week</th>        <th class=\"col_heading level0 col5\" >4-8 week</th>        <th class=\"col_heading level0 col6\" >8-10 week</th>        <th class=\"col_heading level0 col7\" >10-16 week</th>        <th class=\"col_heading level0 col8\" >16-24 week</th>        <th class=\"col_heading level0 col9\" >24-40 week</th>        <th class=\"col_heading level0 col10\" >40-64 week</th>        <th class=\"col_heading level0 col11\" >64-80 week</th>        <th class=\"col_heading level0 col12\" >80-1142 week</th>    </tr>    <tr>        <th class=\"index_name level0\" >reg_day</th>        <th class=\"blank\" ></th>        <th class=\"blank\" ></th>        <th class=\"blank\" ></th>        <th class=\"blank\" ></th>        <th class=\"blank\" ></th>        <th class=\"blank\" ></th>        <th class=\"blank\" ></th>        <th class=\"blank\" ></th>        <th class=\"blank\" ></th>        <th class=\"blank\" ></th>        <th class=\"blank\" ></th>        <th class=\"blank\" ></th>        <th class=\"blank\" ></th>    </tr></thead><tbody>\n",
       "                <tr>\n",
       "                        <th id=\"T_5f5d6bc8_c8ec_11ee_bdbb_96000040dfb6level0_row0\" class=\"row_heading level0 row0\" >2019-01-01</th>\n",
       "                        <td id=\"T_5f5d6bc8_c8ec_11ee_bdbb_96000040dfb6row0_col0\" class=\"data row0 col0\" >3.43%</td>\n",
       "                        <td id=\"T_5f5d6bc8_c8ec_11ee_bdbb_96000040dfb6row0_col1\" class=\"data row0 col1\" >24.70%</td>\n",
       "                        <td id=\"T_5f5d6bc8_c8ec_11ee_bdbb_96000040dfb6row0_col2\" class=\"data row0 col2\" >21.61%</td>\n",
       "                        <td id=\"T_5f5d6bc8_c8ec_11ee_bdbb_96000040dfb6row0_col3\" class=\"data row0 col3\" >18.35%</td>\n",
       "                        <td id=\"T_5f5d6bc8_c8ec_11ee_bdbb_96000040dfb6row0_col4\" class=\"data row0 col4\" >15.27%</td>\n",
       "                        <td id=\"T_5f5d6bc8_c8ec_11ee_bdbb_96000040dfb6row0_col5\" class=\"data row0 col5\" >11.32%</td>\n",
       "                        <td id=\"T_5f5d6bc8_c8ec_11ee_bdbb_96000040dfb6row0_col6\" class=\"data row0 col6\" >4.80%</td>\n",
       "                        <td id=\"T_5f5d6bc8_c8ec_11ee_bdbb_96000040dfb6row0_col7\" class=\"data row0 col7\" >4.80%</td>\n",
       "                        <td id=\"T_5f5d6bc8_c8ec_11ee_bdbb_96000040dfb6row0_col8\" class=\"data row0 col8\" >4.80%</td>\n",
       "                        <td id=\"T_5f5d6bc8_c8ec_11ee_bdbb_96000040dfb6row0_col9\" class=\"data row0 col9\" >4.80%</td>\n",
       "                        <td id=\"T_5f5d6bc8_c8ec_11ee_bdbb_96000040dfb6row0_col10\" class=\"data row0 col10\" >4.80%</td>\n",
       "                        <td id=\"T_5f5d6bc8_c8ec_11ee_bdbb_96000040dfb6row0_col11\" class=\"data row0 col11\" >4.80%</td>\n",
       "                        <td id=\"T_5f5d6bc8_c8ec_11ee_bdbb_96000040dfb6row0_col12\" class=\"data row0 col12\" >4.80%</td>\n",
       "            </tr>\n",
       "            <tr>\n",
       "                        <th id=\"T_5f5d6bc8_c8ec_11ee_bdbb_96000040dfb6level0_row1\" class=\"row_heading level0 row1\" >2019-01-02</th>\n",
       "                        <td id=\"T_5f5d6bc8_c8ec_11ee_bdbb_96000040dfb6row1_col0\" class=\"data row1 col0\" >3.60%</td>\n",
       "                        <td id=\"T_5f5d6bc8_c8ec_11ee_bdbb_96000040dfb6row1_col1\" class=\"data row1 col1\" >22.81%</td>\n",
       "                        <td id=\"T_5f5d6bc8_c8ec_11ee_bdbb_96000040dfb6row1_col2\" class=\"data row1 col2\" >20.24%</td>\n",
       "                        <td id=\"T_5f5d6bc8_c8ec_11ee_bdbb_96000040dfb6row1_col3\" class=\"data row1 col3\" >16.98%</td>\n",
       "                        <td id=\"T_5f5d6bc8_c8ec_11ee_bdbb_96000040dfb6row1_col4\" class=\"data row1 col4\" >13.38%</td>\n",
       "                        <td id=\"T_5f5d6bc8_c8ec_11ee_bdbb_96000040dfb6row1_col5\" class=\"data row1 col5\" >9.95%</td>\n",
       "                        <td id=\"T_5f5d6bc8_c8ec_11ee_bdbb_96000040dfb6row1_col6\" class=\"data row1 col6\" >5.32%</td>\n",
       "                        <td id=\"T_5f5d6bc8_c8ec_11ee_bdbb_96000040dfb6row1_col7\" class=\"data row1 col7\" >5.32%</td>\n",
       "                        <td id=\"T_5f5d6bc8_c8ec_11ee_bdbb_96000040dfb6row1_col8\" class=\"data row1 col8\" >5.32%</td>\n",
       "                        <td id=\"T_5f5d6bc8_c8ec_11ee_bdbb_96000040dfb6row1_col9\" class=\"data row1 col9\" >5.32%</td>\n",
       "                        <td id=\"T_5f5d6bc8_c8ec_11ee_bdbb_96000040dfb6row1_col10\" class=\"data row1 col10\" >5.32%</td>\n",
       "                        <td id=\"T_5f5d6bc8_c8ec_11ee_bdbb_96000040dfb6row1_col11\" class=\"data row1 col11\" >5.32%</td>\n",
       "                        <td id=\"T_5f5d6bc8_c8ec_11ee_bdbb_96000040dfb6row1_col12\" class=\"data row1 col12\" >5.32%</td>\n",
       "            </tr>\n",
       "            <tr>\n",
       "                        <th id=\"T_5f5d6bc8_c8ec_11ee_bdbb_96000040dfb6level0_row2\" class=\"row_heading level0 row2\" >2019-01-03</th>\n",
       "                        <td id=\"T_5f5d6bc8_c8ec_11ee_bdbb_96000040dfb6row2_col0\" class=\"data row2 col0\" >3.08%</td>\n",
       "                        <td id=\"T_5f5d6bc8_c8ec_11ee_bdbb_96000040dfb6row2_col1\" class=\"data row2 col1\" >22.91%</td>\n",
       "                        <td id=\"T_5f5d6bc8_c8ec_11ee_bdbb_96000040dfb6row2_col2\" class=\"data row2 col2\" >19.32%</td>\n",
       "                        <td id=\"T_5f5d6bc8_c8ec_11ee_bdbb_96000040dfb6row2_col3\" class=\"data row2 col3\" >16.58%</td>\n",
       "                        <td id=\"T_5f5d6bc8_c8ec_11ee_bdbb_96000040dfb6row2_col4\" class=\"data row2 col4\" >13.68%</td>\n",
       "                        <td id=\"T_5f5d6bc8_c8ec_11ee_bdbb_96000040dfb6row2_col5\" class=\"data row2 col5\" >10.94%</td>\n",
       "                        <td id=\"T_5f5d6bc8_c8ec_11ee_bdbb_96000040dfb6row2_col6\" class=\"data row2 col6\" >5.47%</td>\n",
       "                        <td id=\"T_5f5d6bc8_c8ec_11ee_bdbb_96000040dfb6row2_col7\" class=\"data row2 col7\" >5.30%</td>\n",
       "                        <td id=\"T_5f5d6bc8_c8ec_11ee_bdbb_96000040dfb6row2_col8\" class=\"data row2 col8\" >5.30%</td>\n",
       "                        <td id=\"T_5f5d6bc8_c8ec_11ee_bdbb_96000040dfb6row2_col9\" class=\"data row2 col9\" >5.30%</td>\n",
       "                        <td id=\"T_5f5d6bc8_c8ec_11ee_bdbb_96000040dfb6row2_col10\" class=\"data row2 col10\" >5.30%</td>\n",
       "                        <td id=\"T_5f5d6bc8_c8ec_11ee_bdbb_96000040dfb6row2_col11\" class=\"data row2 col11\" >5.30%</td>\n",
       "                        <td id=\"T_5f5d6bc8_c8ec_11ee_bdbb_96000040dfb6row2_col12\" class=\"data row2 col12\" >5.30%</td>\n",
       "            </tr>\n",
       "            <tr>\n",
       "                        <th id=\"T_5f5d6bc8_c8ec_11ee_bdbb_96000040dfb6level0_row3\" class=\"row_heading level0 row3\" >2019-01-04</th>\n",
       "                        <td id=\"T_5f5d6bc8_c8ec_11ee_bdbb_96000040dfb6row3_col0\" class=\"data row3 col0\" >4.44%</td>\n",
       "                        <td id=\"T_5f5d6bc8_c8ec_11ee_bdbb_96000040dfb6row3_col1\" class=\"data row3 col1\" >22.74%</td>\n",
       "                        <td id=\"T_5f5d6bc8_c8ec_11ee_bdbb_96000040dfb6row3_col2\" class=\"data row3 col2\" >21.54%</td>\n",
       "                        <td id=\"T_5f5d6bc8_c8ec_11ee_bdbb_96000040dfb6row3_col3\" class=\"data row3 col3\" >17.95%</td>\n",
       "                        <td id=\"T_5f5d6bc8_c8ec_11ee_bdbb_96000040dfb6row3_col4\" class=\"data row3 col4\" >15.21%</td>\n",
       "                        <td id=\"T_5f5d6bc8_c8ec_11ee_bdbb_96000040dfb6row3_col5\" class=\"data row3 col5\" >11.28%</td>\n",
       "                        <td id=\"T_5f5d6bc8_c8ec_11ee_bdbb_96000040dfb6row3_col6\" class=\"data row3 col6\" >3.93%</td>\n",
       "                        <td id=\"T_5f5d6bc8_c8ec_11ee_bdbb_96000040dfb6row3_col7\" class=\"data row3 col7\" >3.93%</td>\n",
       "                        <td id=\"T_5f5d6bc8_c8ec_11ee_bdbb_96000040dfb6row3_col8\" class=\"data row3 col8\" >3.93%</td>\n",
       "                        <td id=\"T_5f5d6bc8_c8ec_11ee_bdbb_96000040dfb6row3_col9\" class=\"data row3 col9\" >3.93%</td>\n",
       "                        <td id=\"T_5f5d6bc8_c8ec_11ee_bdbb_96000040dfb6row3_col10\" class=\"data row3 col10\" >3.93%</td>\n",
       "                        <td id=\"T_5f5d6bc8_c8ec_11ee_bdbb_96000040dfb6row3_col11\" class=\"data row3 col11\" >3.93%</td>\n",
       "                        <td id=\"T_5f5d6bc8_c8ec_11ee_bdbb_96000040dfb6row3_col12\" class=\"data row3 col12\" >3.93%</td>\n",
       "            </tr>\n",
       "            <tr>\n",
       "                        <th id=\"T_5f5d6bc8_c8ec_11ee_bdbb_96000040dfb6level0_row4\" class=\"row_heading level0 row4\" >2019-01-05</th>\n",
       "                        <td id=\"T_5f5d6bc8_c8ec_11ee_bdbb_96000040dfb6row4_col0\" class=\"data row4 col0\" >3.24%</td>\n",
       "                        <td id=\"T_5f5d6bc8_c8ec_11ee_bdbb_96000040dfb6row4_col1\" class=\"data row4 col1\" >25.26%</td>\n",
       "                        <td id=\"T_5f5d6bc8_c8ec_11ee_bdbb_96000040dfb6row4_col2\" class=\"data row4 col2\" >22.35%</td>\n",
       "                        <td id=\"T_5f5d6bc8_c8ec_11ee_bdbb_96000040dfb6row4_col3\" class=\"data row4 col3\" >18.94%</td>\n",
       "                        <td id=\"T_5f5d6bc8_c8ec_11ee_bdbb_96000040dfb6row4_col4\" class=\"data row4 col4\" >15.36%</td>\n",
       "                        <td id=\"T_5f5d6bc8_c8ec_11ee_bdbb_96000040dfb6row4_col5\" class=\"data row4 col5\" >12.29%</td>\n",
       "                        <td id=\"T_5f5d6bc8_c8ec_11ee_bdbb_96000040dfb6row4_col6\" class=\"data row4 col6\" >5.97%</td>\n",
       "                        <td id=\"T_5f5d6bc8_c8ec_11ee_bdbb_96000040dfb6row4_col7\" class=\"data row4 col7\" >5.97%</td>\n",
       "                        <td id=\"T_5f5d6bc8_c8ec_11ee_bdbb_96000040dfb6row4_col8\" class=\"data row4 col8\" >5.97%</td>\n",
       "                        <td id=\"T_5f5d6bc8_c8ec_11ee_bdbb_96000040dfb6row4_col9\" class=\"data row4 col9\" >5.97%</td>\n",
       "                        <td id=\"T_5f5d6bc8_c8ec_11ee_bdbb_96000040dfb6row4_col10\" class=\"data row4 col10\" >5.97%</td>\n",
       "                        <td id=\"T_5f5d6bc8_c8ec_11ee_bdbb_96000040dfb6row4_col11\" class=\"data row4 col11\" >5.97%</td>\n",
       "                        <td id=\"T_5f5d6bc8_c8ec_11ee_bdbb_96000040dfb6row4_col12\" class=\"data row4 col12\" >5.97%</td>\n",
       "            </tr>\n",
       "            <tr>\n",
       "                        <th id=\"T_5f5d6bc8_c8ec_11ee_bdbb_96000040dfb6level0_row5\" class=\"row_heading level0 row5\" >2019-01-06</th>\n",
       "                        <td id=\"T_5f5d6bc8_c8ec_11ee_bdbb_96000040dfb6row5_col0\" class=\"data row5 col0\" >3.40%</td>\n",
       "                        <td id=\"T_5f5d6bc8_c8ec_11ee_bdbb_96000040dfb6row5_col1\" class=\"data row5 col1\" >22.62%</td>\n",
       "                        <td id=\"T_5f5d6bc8_c8ec_11ee_bdbb_96000040dfb6row5_col2\" class=\"data row5 col2\" >20.07%</td>\n",
       "                        <td id=\"T_5f5d6bc8_c8ec_11ee_bdbb_96000040dfb6row5_col3\" class=\"data row5 col3\" >16.84%</td>\n",
       "                        <td id=\"T_5f5d6bc8_c8ec_11ee_bdbb_96000040dfb6row5_col4\" class=\"data row5 col4\" >13.44%</td>\n",
       "                        <td id=\"T_5f5d6bc8_c8ec_11ee_bdbb_96000040dfb6row5_col5\" class=\"data row5 col5\" >10.03%</td>\n",
       "                        <td id=\"T_5f5d6bc8_c8ec_11ee_bdbb_96000040dfb6row5_col6\" class=\"data row5 col6\" >5.10%</td>\n",
       "                        <td id=\"T_5f5d6bc8_c8ec_11ee_bdbb_96000040dfb6row5_col7\" class=\"data row5 col7\" >5.10%</td>\n",
       "                        <td id=\"T_5f5d6bc8_c8ec_11ee_bdbb_96000040dfb6row5_col8\" class=\"data row5 col8\" >5.10%</td>\n",
       "                        <td id=\"T_5f5d6bc8_c8ec_11ee_bdbb_96000040dfb6row5_col9\" class=\"data row5 col9\" >5.10%</td>\n",
       "                        <td id=\"T_5f5d6bc8_c8ec_11ee_bdbb_96000040dfb6row5_col10\" class=\"data row5 col10\" >5.10%</td>\n",
       "                        <td id=\"T_5f5d6bc8_c8ec_11ee_bdbb_96000040dfb6row5_col11\" class=\"data row5 col11\" >5.10%</td>\n",
       "                        <td id=\"T_5f5d6bc8_c8ec_11ee_bdbb_96000040dfb6row5_col12\" class=\"data row5 col12\" >5.10%</td>\n",
       "            </tr>\n",
       "            <tr>\n",
       "                        <th id=\"T_5f5d6bc8_c8ec_11ee_bdbb_96000040dfb6level0_row6\" class=\"row_heading level0 row6\" >2019-01-07</th>\n",
       "                        <td id=\"T_5f5d6bc8_c8ec_11ee_bdbb_96000040dfb6row6_col0\" class=\"data row6 col0\" >3.57%</td>\n",
       "                        <td id=\"T_5f5d6bc8_c8ec_11ee_bdbb_96000040dfb6row6_col1\" class=\"data row6 col1\" >25.17%</td>\n",
       "                        <td id=\"T_5f5d6bc8_c8ec_11ee_bdbb_96000040dfb6row6_col2\" class=\"data row6 col2\" >21.77%</td>\n",
       "                        <td id=\"T_5f5d6bc8_c8ec_11ee_bdbb_96000040dfb6row6_col3\" class=\"data row6 col3\" >17.86%</td>\n",
       "                        <td id=\"T_5f5d6bc8_c8ec_11ee_bdbb_96000040dfb6row6_col4\" class=\"data row6 col4\" >14.29%</td>\n",
       "                        <td id=\"T_5f5d6bc8_c8ec_11ee_bdbb_96000040dfb6row6_col5\" class=\"data row6 col5\" >11.39%</td>\n",
       "                        <td id=\"T_5f5d6bc8_c8ec_11ee_bdbb_96000040dfb6row6_col6\" class=\"data row6 col6\" >4.76%</td>\n",
       "                        <td id=\"T_5f5d6bc8_c8ec_11ee_bdbb_96000040dfb6row6_col7\" class=\"data row6 col7\" >4.76%</td>\n",
       "                        <td id=\"T_5f5d6bc8_c8ec_11ee_bdbb_96000040dfb6row6_col8\" class=\"data row6 col8\" >4.76%</td>\n",
       "                        <td id=\"T_5f5d6bc8_c8ec_11ee_bdbb_96000040dfb6row6_col9\" class=\"data row6 col9\" >4.76%</td>\n",
       "                        <td id=\"T_5f5d6bc8_c8ec_11ee_bdbb_96000040dfb6row6_col10\" class=\"data row6 col10\" >4.76%</td>\n",
       "                        <td id=\"T_5f5d6bc8_c8ec_11ee_bdbb_96000040dfb6row6_col11\" class=\"data row6 col11\" >4.76%</td>\n",
       "                        <td id=\"T_5f5d6bc8_c8ec_11ee_bdbb_96000040dfb6row6_col12\" class=\"data row6 col12\" >4.76%</td>\n",
       "            </tr>\n",
       "            <tr>\n",
       "                        <th id=\"T_5f5d6bc8_c8ec_11ee_bdbb_96000040dfb6level0_row7\" class=\"row_heading level0 row7\" >2019-01-08</th>\n",
       "                        <td id=\"T_5f5d6bc8_c8ec_11ee_bdbb_96000040dfb6row7_col0\" class=\"data row7 col0\" >5.94%</td>\n",
       "                        <td id=\"T_5f5d6bc8_c8ec_11ee_bdbb_96000040dfb6row7_col1\" class=\"data row7 col1\" >24.45%</td>\n",
       "                        <td id=\"T_5f5d6bc8_c8ec_11ee_bdbb_96000040dfb6row7_col2\" class=\"data row7 col2\" >22.07%</td>\n",
       "                        <td id=\"T_5f5d6bc8_c8ec_11ee_bdbb_96000040dfb6row7_col3\" class=\"data row7 col3\" >18.00%</td>\n",
       "                        <td id=\"T_5f5d6bc8_c8ec_11ee_bdbb_96000040dfb6row7_col4\" class=\"data row7 col4\" >14.77%</td>\n",
       "                        <td id=\"T_5f5d6bc8_c8ec_11ee_bdbb_96000040dfb6row7_col5\" class=\"data row7 col5\" >11.38%</td>\n",
       "                        <td id=\"T_5f5d6bc8_c8ec_11ee_bdbb_96000040dfb6row7_col6\" class=\"data row7 col6\" >5.09%</td>\n",
       "                        <td id=\"T_5f5d6bc8_c8ec_11ee_bdbb_96000040dfb6row7_col7\" class=\"data row7 col7\" >5.09%</td>\n",
       "                        <td id=\"T_5f5d6bc8_c8ec_11ee_bdbb_96000040dfb6row7_col8\" class=\"data row7 col8\" >5.09%</td>\n",
       "                        <td id=\"T_5f5d6bc8_c8ec_11ee_bdbb_96000040dfb6row7_col9\" class=\"data row7 col9\" >5.09%</td>\n",
       "                        <td id=\"T_5f5d6bc8_c8ec_11ee_bdbb_96000040dfb6row7_col10\" class=\"data row7 col10\" >5.09%</td>\n",
       "                        <td id=\"T_5f5d6bc8_c8ec_11ee_bdbb_96000040dfb6row7_col11\" class=\"data row7 col11\" >5.09%</td>\n",
       "                        <td id=\"T_5f5d6bc8_c8ec_11ee_bdbb_96000040dfb6row7_col12\" class=\"data row7 col12\" >5.09%</td>\n",
       "            </tr>\n",
       "            <tr>\n",
       "                        <th id=\"T_5f5d6bc8_c8ec_11ee_bdbb_96000040dfb6level0_row8\" class=\"row_heading level0 row8\" >2019-01-09</th>\n",
       "                        <td id=\"T_5f5d6bc8_c8ec_11ee_bdbb_96000040dfb6row8_col0\" class=\"data row8 col0\" >2.03%</td>\n",
       "                        <td id=\"T_5f5d6bc8_c8ec_11ee_bdbb_96000040dfb6row8_col1\" class=\"data row8 col1\" >21.02%</td>\n",
       "                        <td id=\"T_5f5d6bc8_c8ec_11ee_bdbb_96000040dfb6row8_col2\" class=\"data row8 col2\" >19.32%</td>\n",
       "                        <td id=\"T_5f5d6bc8_c8ec_11ee_bdbb_96000040dfb6row8_col3\" class=\"data row8 col3\" >14.92%</td>\n",
       "                        <td id=\"T_5f5d6bc8_c8ec_11ee_bdbb_96000040dfb6row8_col4\" class=\"data row8 col4\" >12.88%</td>\n",
       "                        <td id=\"T_5f5d6bc8_c8ec_11ee_bdbb_96000040dfb6row8_col5\" class=\"data row8 col5\" >10.00%</td>\n",
       "                        <td id=\"T_5f5d6bc8_c8ec_11ee_bdbb_96000040dfb6row8_col6\" class=\"data row8 col6\" >5.08%</td>\n",
       "                        <td id=\"T_5f5d6bc8_c8ec_11ee_bdbb_96000040dfb6row8_col7\" class=\"data row8 col7\" >5.08%</td>\n",
       "                        <td id=\"T_5f5d6bc8_c8ec_11ee_bdbb_96000040dfb6row8_col8\" class=\"data row8 col8\" >5.08%</td>\n",
       "                        <td id=\"T_5f5d6bc8_c8ec_11ee_bdbb_96000040dfb6row8_col9\" class=\"data row8 col9\" >5.08%</td>\n",
       "                        <td id=\"T_5f5d6bc8_c8ec_11ee_bdbb_96000040dfb6row8_col10\" class=\"data row8 col10\" >5.08%</td>\n",
       "                        <td id=\"T_5f5d6bc8_c8ec_11ee_bdbb_96000040dfb6row8_col11\" class=\"data row8 col11\" >5.08%</td>\n",
       "                        <td id=\"T_5f5d6bc8_c8ec_11ee_bdbb_96000040dfb6row8_col12\" class=\"data row8 col12\" >5.08%</td>\n",
       "            </tr>\n",
       "            <tr>\n",
       "                        <th id=\"T_5f5d6bc8_c8ec_11ee_bdbb_96000040dfb6level0_row9\" class=\"row_heading level0 row9\" >2019-01-10</th>\n",
       "                        <td id=\"T_5f5d6bc8_c8ec_11ee_bdbb_96000040dfb6row9_col0\" class=\"data row9 col0\" >5.08%</td>\n",
       "                        <td id=\"T_5f5d6bc8_c8ec_11ee_bdbb_96000040dfb6row9_col1\" class=\"data row9 col1\" >22.50%</td>\n",
       "                        <td id=\"T_5f5d6bc8_c8ec_11ee_bdbb_96000040dfb6row9_col2\" class=\"data row9 col2\" >19.63%</td>\n",
       "                        <td id=\"T_5f5d6bc8_c8ec_11ee_bdbb_96000040dfb6row9_col3\" class=\"data row9 col3\" >16.24%</td>\n",
       "                        <td id=\"T_5f5d6bc8_c8ec_11ee_bdbb_96000040dfb6row9_col4\" class=\"data row9 col4\" >13.71%</td>\n",
       "                        <td id=\"T_5f5d6bc8_c8ec_11ee_bdbb_96000040dfb6row9_col5\" class=\"data row9 col5\" >10.83%</td>\n",
       "                        <td id=\"T_5f5d6bc8_c8ec_11ee_bdbb_96000040dfb6row9_col6\" class=\"data row9 col6\" >5.41%</td>\n",
       "                        <td id=\"T_5f5d6bc8_c8ec_11ee_bdbb_96000040dfb6row9_col7\" class=\"data row9 col7\" >5.41%</td>\n",
       "                        <td id=\"T_5f5d6bc8_c8ec_11ee_bdbb_96000040dfb6row9_col8\" class=\"data row9 col8\" >5.41%</td>\n",
       "                        <td id=\"T_5f5d6bc8_c8ec_11ee_bdbb_96000040dfb6row9_col9\" class=\"data row9 col9\" >5.41%</td>\n",
       "                        <td id=\"T_5f5d6bc8_c8ec_11ee_bdbb_96000040dfb6row9_col10\" class=\"data row9 col10\" >5.41%</td>\n",
       "                        <td id=\"T_5f5d6bc8_c8ec_11ee_bdbb_96000040dfb6row9_col11\" class=\"data row9 col11\" >5.41%</td>\n",
       "                        <td id=\"T_5f5d6bc8_c8ec_11ee_bdbb_96000040dfb6row9_col12\" class=\"data row9 col12\" >5.41%</td>\n",
       "            </tr>\n",
       "            <tr>\n",
       "                        <th id=\"T_5f5d6bc8_c8ec_11ee_bdbb_96000040dfb6level0_row10\" class=\"row_heading level0 row10\" >2019-01-11</th>\n",
       "                        <td id=\"T_5f5d6bc8_c8ec_11ee_bdbb_96000040dfb6row10_col0\" class=\"data row10 col0\" >4.55%</td>\n",
       "                        <td id=\"T_5f5d6bc8_c8ec_11ee_bdbb_96000040dfb6row10_col1\" class=\"data row10 col1\" >25.80%</td>\n",
       "                        <td id=\"T_5f5d6bc8_c8ec_11ee_bdbb_96000040dfb6row10_col2\" class=\"data row10 col2\" >23.27%</td>\n",
       "                        <td id=\"T_5f5d6bc8_c8ec_11ee_bdbb_96000040dfb6row10_col3\" class=\"data row10 col3\" >19.39%</td>\n",
       "                        <td id=\"T_5f5d6bc8_c8ec_11ee_bdbb_96000040dfb6row10_col4\" class=\"data row10 col4\" >15.85%</td>\n",
       "                        <td id=\"T_5f5d6bc8_c8ec_11ee_bdbb_96000040dfb6row10_col5\" class=\"data row10 col5\" >11.64%</td>\n",
       "                        <td id=\"T_5f5d6bc8_c8ec_11ee_bdbb_96000040dfb6row10_col6\" class=\"data row10 col6\" >4.72%</td>\n",
       "                        <td id=\"T_5f5d6bc8_c8ec_11ee_bdbb_96000040dfb6row10_col7\" class=\"data row10 col7\" >4.72%</td>\n",
       "                        <td id=\"T_5f5d6bc8_c8ec_11ee_bdbb_96000040dfb6row10_col8\" class=\"data row10 col8\" >4.72%</td>\n",
       "                        <td id=\"T_5f5d6bc8_c8ec_11ee_bdbb_96000040dfb6row10_col9\" class=\"data row10 col9\" >4.72%</td>\n",
       "                        <td id=\"T_5f5d6bc8_c8ec_11ee_bdbb_96000040dfb6row10_col10\" class=\"data row10 col10\" >4.72%</td>\n",
       "                        <td id=\"T_5f5d6bc8_c8ec_11ee_bdbb_96000040dfb6row10_col11\" class=\"data row10 col11\" >4.72%</td>\n",
       "                        <td id=\"T_5f5d6bc8_c8ec_11ee_bdbb_96000040dfb6row10_col12\" class=\"data row10 col12\" >4.72%</td>\n",
       "            </tr>\n",
       "            <tr>\n",
       "                        <th id=\"T_5f5d6bc8_c8ec_11ee_bdbb_96000040dfb6level0_row11\" class=\"row_heading level0 row11\" >2019-01-12</th>\n",
       "                        <td id=\"T_5f5d6bc8_c8ec_11ee_bdbb_96000040dfb6row11_col0\" class=\"data row11 col0\" >3.71%</td>\n",
       "                        <td id=\"T_5f5d6bc8_c8ec_11ee_bdbb_96000040dfb6row11_col1\" class=\"data row11 col1\" >24.45%</td>\n",
       "                        <td id=\"T_5f5d6bc8_c8ec_11ee_bdbb_96000040dfb6row11_col2\" class=\"data row11 col2\" >22.43%</td>\n",
       "                        <td id=\"T_5f5d6bc8_c8ec_11ee_bdbb_96000040dfb6row11_col3\" class=\"data row11 col3\" >19.06%</td>\n",
       "                        <td id=\"T_5f5d6bc8_c8ec_11ee_bdbb_96000040dfb6row11_col4\" class=\"data row11 col4\" >15.01%</td>\n",
       "                        <td id=\"T_5f5d6bc8_c8ec_11ee_bdbb_96000040dfb6row11_col5\" class=\"data row11 col5\" >11.80%</td>\n",
       "                        <td id=\"T_5f5d6bc8_c8ec_11ee_bdbb_96000040dfb6row11_col6\" class=\"data row11 col6\" >5.73%</td>\n",
       "                        <td id=\"T_5f5d6bc8_c8ec_11ee_bdbb_96000040dfb6row11_col7\" class=\"data row11 col7\" >5.73%</td>\n",
       "                        <td id=\"T_5f5d6bc8_c8ec_11ee_bdbb_96000040dfb6row11_col8\" class=\"data row11 col8\" >5.73%</td>\n",
       "                        <td id=\"T_5f5d6bc8_c8ec_11ee_bdbb_96000040dfb6row11_col9\" class=\"data row11 col9\" >5.73%</td>\n",
       "                        <td id=\"T_5f5d6bc8_c8ec_11ee_bdbb_96000040dfb6row11_col10\" class=\"data row11 col10\" >5.73%</td>\n",
       "                        <td id=\"T_5f5d6bc8_c8ec_11ee_bdbb_96000040dfb6row11_col11\" class=\"data row11 col11\" >5.73%</td>\n",
       "                        <td id=\"T_5f5d6bc8_c8ec_11ee_bdbb_96000040dfb6row11_col12\" class=\"data row11 col12\" >5.73%</td>\n",
       "            </tr>\n",
       "            <tr>\n",
       "                        <th id=\"T_5f5d6bc8_c8ec_11ee_bdbb_96000040dfb6level0_row12\" class=\"row_heading level0 row12\" >2019-01-13</th>\n",
       "                        <td id=\"T_5f5d6bc8_c8ec_11ee_bdbb_96000040dfb6row12_col0\" class=\"data row12 col0\" >4.21%</td>\n",
       "                        <td id=\"T_5f5d6bc8_c8ec_11ee_bdbb_96000040dfb6row12_col1\" class=\"data row12 col1\" >27.44%</td>\n",
       "                        <td id=\"T_5f5d6bc8_c8ec_11ee_bdbb_96000040dfb6row12_col2\" class=\"data row12 col2\" >24.92%</td>\n",
       "                        <td id=\"T_5f5d6bc8_c8ec_11ee_bdbb_96000040dfb6row12_col3\" class=\"data row12 col3\" >20.71%</td>\n",
       "                        <td id=\"T_5f5d6bc8_c8ec_11ee_bdbb_96000040dfb6row12_col4\" class=\"data row12 col4\" >17.68%</td>\n",
       "                        <td id=\"T_5f5d6bc8_c8ec_11ee_bdbb_96000040dfb6row12_col5\" class=\"data row12 col5\" >12.96%</td>\n",
       "                        <td id=\"T_5f5d6bc8_c8ec_11ee_bdbb_96000040dfb6row12_col6\" class=\"data row12 col6\" >6.06%</td>\n",
       "                        <td id=\"T_5f5d6bc8_c8ec_11ee_bdbb_96000040dfb6row12_col7\" class=\"data row12 col7\" >6.06%</td>\n",
       "                        <td id=\"T_5f5d6bc8_c8ec_11ee_bdbb_96000040dfb6row12_col8\" class=\"data row12 col8\" >6.06%</td>\n",
       "                        <td id=\"T_5f5d6bc8_c8ec_11ee_bdbb_96000040dfb6row12_col9\" class=\"data row12 col9\" >6.06%</td>\n",
       "                        <td id=\"T_5f5d6bc8_c8ec_11ee_bdbb_96000040dfb6row12_col10\" class=\"data row12 col10\" >6.06%</td>\n",
       "                        <td id=\"T_5f5d6bc8_c8ec_11ee_bdbb_96000040dfb6row12_col11\" class=\"data row12 col11\" >6.06%</td>\n",
       "                        <td id=\"T_5f5d6bc8_c8ec_11ee_bdbb_96000040dfb6row12_col12\" class=\"data row12 col12\" >6.06%</td>\n",
       "            </tr>\n",
       "            <tr>\n",
       "                        <th id=\"T_5f5d6bc8_c8ec_11ee_bdbb_96000040dfb6level0_row13\" class=\"row_heading level0 row13\" >2019-01-14</th>\n",
       "                        <td id=\"T_5f5d6bc8_c8ec_11ee_bdbb_96000040dfb6row13_col0\" class=\"data row13 col0\" >3.36%</td>\n",
       "                        <td id=\"T_5f5d6bc8_c8ec_11ee_bdbb_96000040dfb6row13_col1\" class=\"data row13 col1\" >22.86%</td>\n",
       "                        <td id=\"T_5f5d6bc8_c8ec_11ee_bdbb_96000040dfb6row13_col2\" class=\"data row13 col2\" >19.83%</td>\n",
       "                        <td id=\"T_5f5d6bc8_c8ec_11ee_bdbb_96000040dfb6row13_col3\" class=\"data row13 col3\" >16.81%</td>\n",
       "                        <td id=\"T_5f5d6bc8_c8ec_11ee_bdbb_96000040dfb6row13_col4\" class=\"data row13 col4\" >12.44%</td>\n",
       "                        <td id=\"T_5f5d6bc8_c8ec_11ee_bdbb_96000040dfb6row13_col5\" class=\"data row13 col5\" >10.08%</td>\n",
       "                        <td id=\"T_5f5d6bc8_c8ec_11ee_bdbb_96000040dfb6row13_col6\" class=\"data row13 col6\" >3.87%</td>\n",
       "                        <td id=\"T_5f5d6bc8_c8ec_11ee_bdbb_96000040dfb6row13_col7\" class=\"data row13 col7\" >3.87%</td>\n",
       "                        <td id=\"T_5f5d6bc8_c8ec_11ee_bdbb_96000040dfb6row13_col8\" class=\"data row13 col8\" >3.87%</td>\n",
       "                        <td id=\"T_5f5d6bc8_c8ec_11ee_bdbb_96000040dfb6row13_col9\" class=\"data row13 col9\" >3.87%</td>\n",
       "                        <td id=\"T_5f5d6bc8_c8ec_11ee_bdbb_96000040dfb6row13_col10\" class=\"data row13 col10\" >3.87%</td>\n",
       "                        <td id=\"T_5f5d6bc8_c8ec_11ee_bdbb_96000040dfb6row13_col11\" class=\"data row13 col11\" >3.87%</td>\n",
       "                        <td id=\"T_5f5d6bc8_c8ec_11ee_bdbb_96000040dfb6row13_col12\" class=\"data row13 col12\" >3.87%</td>\n",
       "            </tr>\n",
       "            <tr>\n",
       "                        <th id=\"T_5f5d6bc8_c8ec_11ee_bdbb_96000040dfb6level0_row14\" class=\"row_heading level0 row14\" >2019-01-15</th>\n",
       "                        <td id=\"T_5f5d6bc8_c8ec_11ee_bdbb_96000040dfb6row14_col0\" class=\"data row14 col0\" >3.02%</td>\n",
       "                        <td id=\"T_5f5d6bc8_c8ec_11ee_bdbb_96000040dfb6row14_col1\" class=\"data row14 col1\" >26.34%</td>\n",
       "                        <td id=\"T_5f5d6bc8_c8ec_11ee_bdbb_96000040dfb6row14_col2\" class=\"data row14 col2\" >23.49%</td>\n",
       "                        <td id=\"T_5f5d6bc8_c8ec_11ee_bdbb_96000040dfb6row14_col3\" class=\"data row14 col3\" >18.46%</td>\n",
       "                        <td id=\"T_5f5d6bc8_c8ec_11ee_bdbb_96000040dfb6row14_col4\" class=\"data row14 col4\" >13.59%</td>\n",
       "                        <td id=\"T_5f5d6bc8_c8ec_11ee_bdbb_96000040dfb6row14_col5\" class=\"data row14 col5\" >11.58%</td>\n",
       "                        <td id=\"T_5f5d6bc8_c8ec_11ee_bdbb_96000040dfb6row14_col6\" class=\"data row14 col6\" >5.03%</td>\n",
       "                        <td id=\"T_5f5d6bc8_c8ec_11ee_bdbb_96000040dfb6row14_col7\" class=\"data row14 col7\" >5.03%</td>\n",
       "                        <td id=\"T_5f5d6bc8_c8ec_11ee_bdbb_96000040dfb6row14_col8\" class=\"data row14 col8\" >5.03%</td>\n",
       "                        <td id=\"T_5f5d6bc8_c8ec_11ee_bdbb_96000040dfb6row14_col9\" class=\"data row14 col9\" >5.03%</td>\n",
       "                        <td id=\"T_5f5d6bc8_c8ec_11ee_bdbb_96000040dfb6row14_col10\" class=\"data row14 col10\" >5.03%</td>\n",
       "                        <td id=\"T_5f5d6bc8_c8ec_11ee_bdbb_96000040dfb6row14_col11\" class=\"data row14 col11\" >5.03%</td>\n",
       "                        <td id=\"T_5f5d6bc8_c8ec_11ee_bdbb_96000040dfb6row14_col12\" class=\"data row14 col12\" >5.03%</td>\n",
       "            </tr>\n",
       "            <tr>\n",
       "                        <th id=\"T_5f5d6bc8_c8ec_11ee_bdbb_96000040dfb6level0_row15\" class=\"row_heading level0 row15\" >2019-01-16</th>\n",
       "                        <td id=\"T_5f5d6bc8_c8ec_11ee_bdbb_96000040dfb6row15_col0\" class=\"data row15 col0\" >3.69%</td>\n",
       "                        <td id=\"T_5f5d6bc8_c8ec_11ee_bdbb_96000040dfb6row15_col1\" class=\"data row15 col1\" >28.81%</td>\n",
       "                        <td id=\"T_5f5d6bc8_c8ec_11ee_bdbb_96000040dfb6row15_col2\" class=\"data row15 col2\" >24.96%</td>\n",
       "                        <td id=\"T_5f5d6bc8_c8ec_11ee_bdbb_96000040dfb6row15_col3\" class=\"data row15 col3\" >21.94%</td>\n",
       "                        <td id=\"T_5f5d6bc8_c8ec_11ee_bdbb_96000040dfb6row15_col4\" class=\"data row15 col4\" >18.93%</td>\n",
       "                        <td id=\"T_5f5d6bc8_c8ec_11ee_bdbb_96000040dfb6row15_col5\" class=\"data row15 col5\" >14.57%</td>\n",
       "                        <td id=\"T_5f5d6bc8_c8ec_11ee_bdbb_96000040dfb6row15_col6\" class=\"data row15 col6\" >6.87%</td>\n",
       "                        <td id=\"T_5f5d6bc8_c8ec_11ee_bdbb_96000040dfb6row15_col7\" class=\"data row15 col7\" >6.87%</td>\n",
       "                        <td id=\"T_5f5d6bc8_c8ec_11ee_bdbb_96000040dfb6row15_col8\" class=\"data row15 col8\" >6.87%</td>\n",
       "                        <td id=\"T_5f5d6bc8_c8ec_11ee_bdbb_96000040dfb6row15_col9\" class=\"data row15 col9\" >6.87%</td>\n",
       "                        <td id=\"T_5f5d6bc8_c8ec_11ee_bdbb_96000040dfb6row15_col10\" class=\"data row15 col10\" >6.87%</td>\n",
       "                        <td id=\"T_5f5d6bc8_c8ec_11ee_bdbb_96000040dfb6row15_col11\" class=\"data row15 col11\" >6.87%</td>\n",
       "                        <td id=\"T_5f5d6bc8_c8ec_11ee_bdbb_96000040dfb6row15_col12\" class=\"data row15 col12\" >6.87%</td>\n",
       "            </tr>\n",
       "            <tr>\n",
       "                        <th id=\"T_5f5d6bc8_c8ec_11ee_bdbb_96000040dfb6level0_row16\" class=\"row_heading level0 row16\" >2019-01-17</th>\n",
       "                        <td id=\"T_5f5d6bc8_c8ec_11ee_bdbb_96000040dfb6row16_col0\" class=\"data row16 col0\" >4.18%</td>\n",
       "                        <td id=\"T_5f5d6bc8_c8ec_11ee_bdbb_96000040dfb6row16_col1\" class=\"data row16 col1\" >21.57%</td>\n",
       "                        <td id=\"T_5f5d6bc8_c8ec_11ee_bdbb_96000040dfb6row16_col2\" class=\"data row16 col2\" >20.40%</td>\n",
       "                        <td id=\"T_5f5d6bc8_c8ec_11ee_bdbb_96000040dfb6row16_col3\" class=\"data row16 col3\" >17.06%</td>\n",
       "                        <td id=\"T_5f5d6bc8_c8ec_11ee_bdbb_96000040dfb6row16_col4\" class=\"data row16 col4\" >14.21%</td>\n",
       "                        <td id=\"T_5f5d6bc8_c8ec_11ee_bdbb_96000040dfb6row16_col5\" class=\"data row16 col5\" >11.20%</td>\n",
       "                        <td id=\"T_5f5d6bc8_c8ec_11ee_bdbb_96000040dfb6row16_col6\" class=\"data row16 col6\" >5.52%</td>\n",
       "                        <td id=\"T_5f5d6bc8_c8ec_11ee_bdbb_96000040dfb6row16_col7\" class=\"data row16 col7\" >5.52%</td>\n",
       "                        <td id=\"T_5f5d6bc8_c8ec_11ee_bdbb_96000040dfb6row16_col8\" class=\"data row16 col8\" >5.52%</td>\n",
       "                        <td id=\"T_5f5d6bc8_c8ec_11ee_bdbb_96000040dfb6row16_col9\" class=\"data row16 col9\" >5.52%</td>\n",
       "                        <td id=\"T_5f5d6bc8_c8ec_11ee_bdbb_96000040dfb6row16_col10\" class=\"data row16 col10\" >5.52%</td>\n",
       "                        <td id=\"T_5f5d6bc8_c8ec_11ee_bdbb_96000040dfb6row16_col11\" class=\"data row16 col11\" >5.52%</td>\n",
       "                        <td id=\"T_5f5d6bc8_c8ec_11ee_bdbb_96000040dfb6row16_col12\" class=\"data row16 col12\" >5.52%</td>\n",
       "            </tr>\n",
       "    </tbody></table>"
      ],
      "text/plain": [
       "<pandas.io.formats.style.Styler at 0x7fa611d9cb38>"
      ]
     },
     "execution_count": 16,
     "metadata": {},
     "output_type": "execute_result"
    }
   ],
   "source": [
    "ur_style = (retention(visit, registration)\n",
    "            .style\n",
    "            .set_caption('User retention by cohort')  # добавляем подпись\n",
    "            .background_gradient(cmap='viridis')  # раскрашиваем ячейки по столбцам\n",
    "            .highlight_null('white')  # делаем белый фон для значений NaN\n",
    "            .format(\"{:.2%}\", na_rep=\"\"))  # числа форматируем как проценты, NaN заменяем на пустоту\n",
    "ur_style"
   ]
  },
  {
   "cell_type": "markdown",
   "metadata": {},
   "source": [
    "Примерно после 10 недели значения по возвращаемости игроков выходят на плато\n",
    "\n",
    "## N-Retantion\n",
    "Посчитаем retantion по дням"
   ]
  },
  {
   "cell_type": "code",
   "execution_count": 17,
   "metadata": {},
   "outputs": [],
   "source": [
    "def n_retantion(visit, registration):\n",
    "    # соединяем таблицы\n",
    "    df=pd.merge(left=registration, right=visit, how='outer', on='uid')\n",
    "    # Расчитываем кол-во дней с даты региспрации для каждой строки\n",
    "    active = df.assign(return_day = ((df['auth_ts'] - df['reg_ts']).dt.days))\n",
    "    # создаем столбец, который станет когортой\n",
    "    active['reg_day'] = active['reg_ts'].dt.strftime('%Y')\n",
    "\n",
    "    # \n",
    "    calc_retention = []\n",
    "    \n",
    "    # Рассчитываем n_retention для каждого дня\n",
    "    for return_day in days:\n",
    "        # выбираем пользователей вернувшихся в определенный день\n",
    "        id_with_n_days = active[active['return_day'] == return_day]['uid'].unique()\n",
    "\n",
    "        # Рассчитываем n_retention для определенного дня\n",
    "        calc_retention.append(len(id_with_n_days) / len(active['uid'].unique()))\n",
    "        \n",
    "    return calc_retention"
   ]
  },
  {
   "cell_type": "code",
   "execution_count": 18,
   "metadata": {},
   "outputs": [],
   "source": [
    "def plt_show(days: list, retention: list, xs: list, title: str, add_text: bool = True):\n",
    "    plt.figure(figsize=(14, 4))\n",
    "    plt.plot(days, retention)\n",
    "\n",
    "    plt.title(title)\n",
    "    plt.gca().yaxis.set_major_formatter(PercentFormatter(xmax=1.0))\n",
    "    plt.gca().set(xlabel='Days', ylabel='% Retaining Users')\n",
    "\n",
    "    for x in xs:\n",
    "        plt.vlines(x=days[x], ymin=0, ymax=retention[x], linestyles='dotted')\n",
    "        if add_text:\n",
    "            plt.text(x=days[x], y=retention[x] + 0.05, s='{:.0%} (day {})'.format(retention[x], x))\n",
    "\n",
    "    plt.show()"
   ]
  },
  {
   "cell_type": "code",
   "execution_count": 19,
   "metadata": {},
   "outputs": [
    {
     "data": {
      "image/png": "[encoded data removed]",
      "text/plain": [
       "<Figure size 1008x288 with 1 Axes>"
      ]
     },
     "metadata": {
      "needs_background": "light"
     },
     "output_type": "display_data"
    }
   ],
   "source": [
    "days = list(range(0, 130))\n",
    "calc_retention = n_retantion(visit, registration)\n",
    "\n",
    "plt_show(days, calc_retention, xs=[1, 6, 14, 28, 56, 112], title='Daily Classic Retention')"
   ]
  },
  {
   "cell_type": "markdown",
   "metadata": {},
   "source": [
    "Посиотрим на выбросы ближе"
   ]
  },
  {
   "cell_type": "code",
   "execution_count": 20,
   "metadata": {},
   "outputs": [
    {
     "data": {
      "image/png": "[encoded data removed]",
      "text/plain": [
       "<Figure size 1008x288 with 1 Axes>"
      ]
     },
     "metadata": {
      "needs_background": "light"
     },
     "output_type": "display_data"
    }
   ],
   "source": [
    "days = list(range(1, 130))\n",
    "calc_retention = n_retantion(visit, registration)\n",
    "\n",
    "plt_show(days, calc_retention, xs=[1, 6, 14, 28, 56, 112], title='Daily Classic Retention', add_text=False)"
   ]
  },
  {
   "cell_type": "code",
   "execution_count": 21,
   "metadata": {},
   "outputs": [],
   "source": [
    "# Видим, что со следующего дня после первого захода в продукт/регестрации — вернулось только 4% пользоватклей.\n",
    "# Имеется увеличение кол-ва пользователей на 6 день, 7% пользователей вернулись именно на этот день \n",
    "# Имеется 1% максимально лояльных пользователей, которые продолжают возврашаться даже спустя пол года"
   ]
  },
  {
   "cell_type": "markdown",
   "metadata": {},
   "source": [
    "## Rolling Retention"
   ]
  },
  {
   "cell_type": "code",
   "execution_count": 22,
   "metadata": {},
   "outputs": [],
   "source": [
    "def rolling_retention(visit, registration):\n",
    "    # соединяем таблицы\n",
    "    df=pd.merge(left=registration, right=visit, how='outer', on='uid')\n",
    "    # Оставляем в колонке auth_ts только входы после регистрации и активных пользоватейлей(которые входили после регистрации)\n",
    "    #active = df.query('reg_ts != auth_ts')  Убираю это условие, так как оно по всей вилимости ошибочно\n",
    "    # Расчитываем кол-во дней с даты регистрации для каждой строки\n",
    "    active = df.assign(return_day = ((df['auth_ts'] - df['reg_ts']).dt.days))\n",
    "\n",
    "    # Создаем список для хранения rolling_retantion\n",
    "    calc_rolling_retantion = []\n",
    "    \n",
    "    # Рассчитываем rolling_retention для каждого дня\n",
    "    for return_day in days:\n",
    "        # выбираем пользователей вернувшихся на день N или после него\n",
    "        id_with_rolling_days = active[active['return_day'] >= return_day]['uid'].unique()\n",
    "\n",
    "        # Рассчитываем rolling_retention для определенного дня\n",
    "        calc_rolling_retantion.append(len(id_with_rolling_days) / len(active['uid'].unique()))\n",
    "        \n",
    "    return calc_rolling_retantion"
   ]
  },
  {
   "cell_type": "code",
   "execution_count": 23,
   "metadata": {},
   "outputs": [
    {
     "data": {
      "image/png": "[encoded data removed]",
      "text/plain": [
       "<Figure size 1008x288 with 1 Axes>"
      ]
     },
     "metadata": {
      "needs_background": "light"
     },
     "output_type": "display_data"
    }
   ],
   "source": [
    "days = list(range(1, 130))\n",
    "calc_rolling_retantion = rolling_retention(visit, registration)\n",
    "\n",
    "plt_show(days, calc_rolling_retantion, xs=[1, 14, 28, 56, 112], title='Rolling Classic Retention')"
   ]
  },
  {
   "cell_type": "markdown",
   "metadata": {},
   "source": [
    "Видим, что по результатам Rolling Classic Retention на следующий день после первого захода в продукт/регестрации — вернулось 24% пользоваелей.\n",
    "\n",
    "## Задание 2\n",
    "Имеются результаты A/B теста, в котором двум группам пользователей предлагались различные наборы акционных предложений. Известно, что ARPU в тестовой группе выше на 5%, чем в контрольной. При этом в контрольной группе 1928 игроков из 202103 оказались платящими, а в тестовой – 1805 из 202667.\n",
    "\n",
    "Какой набор предложений можно считать лучшим? Какие метрики стоит проанализировать для принятия правильного решения и как?"
   ]
  },
  {
   "cell_type": "code",
   "execution_count": 24,
   "metadata": {},
   "outputs": [
    {
     "data": {
      "text/html": [
       "<div>\n",
       "<style scoped>\n",
       "    .dataframe tbody tr th:only-of-type {\n",
       "        vertical-align: middle;\n",
       "    }\n",
       "\n",
       "    .dataframe tbody tr th {\n",
       "        vertical-align: top;\n",
       "    }\n",
       "\n",
       "    .dataframe thead th {\n",
       "        text-align: right;\n",
       "    }\n",
       "</style>\n",
       "<table border=\"1\" class=\"dataframe\">\n",
       "  <thead>\n",
       "    <tr style=\"text-align: right;\">\n",
       "      <th></th>\n",
       "      <th>user_id</th>\n",
       "      <th>revenue</th>\n",
       "      <th>testgroup</th>\n",
       "    </tr>\n",
       "  </thead>\n",
       "  <tbody>\n",
       "    <tr>\n",
       "      <th>0</th>\n",
       "      <td>1</td>\n",
       "      <td>0</td>\n",
       "      <td>b</td>\n",
       "    </tr>\n",
       "    <tr>\n",
       "      <th>1</th>\n",
       "      <td>2</td>\n",
       "      <td>0</td>\n",
       "      <td>a</td>\n",
       "    </tr>\n",
       "    <tr>\n",
       "      <th>2</th>\n",
       "      <td>3</td>\n",
       "      <td>0</td>\n",
       "      <td>a</td>\n",
       "    </tr>\n",
       "    <tr>\n",
       "      <th>3</th>\n",
       "      <td>4</td>\n",
       "      <td>0</td>\n",
       "      <td>b</td>\n",
       "    </tr>\n",
       "    <tr>\n",
       "      <th>4</th>\n",
       "      <td>5</td>\n",
       "      <td>0</td>\n",
       "      <td>b</td>\n",
       "    </tr>\n",
       "  </tbody>\n",
       "</table>\n",
       "</div>"
      ],
      "text/plain": [
       "   user_id  revenue testgroup\n",
       "0        1        0         b\n",
       "1        2        0         a\n",
       "2        3        0         a\n",
       "3        4        0         b\n",
       "4        5        0         b"
      ]
     },
     "execution_count": 24,
     "metadata": {},
     "output_type": "execute_result"
    }
   ],
   "source": [
    "test.head()"
   ]
  },
  {
   "cell_type": "code",
   "execution_count": 25,
   "metadata": {},
   "outputs": [
    {
     "data": {
      "text/plain": [
       "(404770, 3)"
      ]
     },
     "execution_count": 25,
     "metadata": {},
     "output_type": "execute_result"
    }
   ],
   "source": [
    "test.shape"
   ]
  },
  {
   "cell_type": "code",
   "execution_count": 26,
   "metadata": {},
   "outputs": [
    {
     "name": "stdout",
     "output_type": "stream",
     "text": [
      "<class 'pandas.core.frame.DataFrame'>\n",
      "RangeIndex: 404770 entries, 0 to 404769\n",
      "Data columns (total 3 columns):\n",
      " #   Column     Non-Null Count   Dtype \n",
      "---  ------     --------------   ----- \n",
      " 0   user_id    404770 non-null  int64 \n",
      " 1   revenue    404770 non-null  int64 \n",
      " 2   testgroup  404770 non-null  object\n",
      "dtypes: int64(2), object(1)\n",
      "memory usage: 9.3+ MB\n"
     ]
    }
   ],
   "source": [
    "test.info()"
   ]
  },
  {
   "cell_type": "code",
   "execution_count": 27,
   "metadata": {},
   "outputs": [
    {
     "data": {
      "text/plain": [
       "user_id       int64\n",
       "revenue       int64\n",
       "testgroup    object\n",
       "dtype: object"
      ]
     },
     "execution_count": 27,
     "metadata": {},
     "output_type": "execute_result"
    }
   ],
   "source": [
    "test.dtypes"
   ]
  },
  {
   "cell_type": "markdown",
   "metadata": {},
   "source": [
    "Посмотрим на размеры выборок"
   ]
  },
  {
   "cell_type": "code",
   "execution_count": 28,
   "metadata": {},
   "outputs": [
    {
     "data": {
      "text/plain": [
       "202103"
      ]
     },
     "execution_count": 28,
     "metadata": {},
     "output_type": "execute_result"
    }
   ],
   "source": [
    "test.query('testgroup == \"a\"').revenue.count()"
   ]
  },
  {
   "cell_type": "code",
   "execution_count": 29,
   "metadata": {},
   "outputs": [
    {
     "data": {
      "text/plain": [
       "202667"
      ]
     },
     "execution_count": 29,
     "metadata": {},
     "output_type": "execute_result"
    }
   ],
   "source": [
    "test.query('testgroup == \"b\"').revenue.count()"
   ]
  },
  {
   "cell_type": "markdown",
   "metadata": {},
   "source": [
    "Посмотрим на распределение гистограммы по группам.\n",
    "Видим, что из-за большого кол-ва 0 значений гистограмма получается малоинформативна"
   ]
  },
  {
   "cell_type": "code",
   "execution_count": 30,
   "metadata": {},
   "outputs": [
    {
     "data": {
      "text/plain": [
       "<matplotlib.axes._subplots.AxesSubplot at 0x7fa549b716a0>"
      ]
     },
     "execution_count": 30,
     "metadata": {},
     "output_type": "execute_result"
    },
    {
     "data": {
      "image/png": "[encoded data removed]",
      "text/plain": [
       "<Figure size 432x288 with 1 Axes>"
      ]
     },
     "metadata": {
      "needs_background": "light"
     },
     "output_type": "display_data"
    }
   ],
   "source": [
    "sns.histplot(test, x='revenue', hue='testgroup')"
   ]
  },
  {
   "cell_type": "markdown",
   "metadata": {},
   "source": [
    "Из графика ничего не видно, попробуем убрать нулевые значения."
   ]
  },
  {
   "cell_type": "code",
   "execution_count": 31,
   "metadata": {},
   "outputs": [
    {
     "data": {
      "text/plain": [
       "<matplotlib.axes._subplots.AxesSubplot at 0x7fa549903160>"
      ]
     },
     "execution_count": 31,
     "metadata": {},
     "output_type": "execute_result"
    },
    {
     "data": {
      "image/png": "[encoded data removed]",
      "text/plain": [
       "<Figure size 432x288 with 1 Axes>"
      ]
     },
     "metadata": {
      "needs_background": "light"
     },
     "output_type": "display_data"
    }
   ],
   "source": [
    "sns.histplot(test.query('revenue > 0'), x='revenue', hue='testgroup')"
   ]
  },
  {
   "cell_type": "markdown",
   "metadata": {},
   "source": [
    "Посмотрим на распределение гистограммы по группам, где пользователи совершили покупку. На графике видим, что суммы покупок сильно различаются, в группе а они были в основном маленькие, либо очень большие, а в группе b они были в одном диапозоне, данные сильно отличаются "
   ]
  },
  {
   "cell_type": "code",
   "execution_count": 32,
   "metadata": {},
   "outputs": [
    {
     "data": {
      "text/plain": [
       "array([   0, 3797, 3768, ..., 2105, 3383, 3120])"
      ]
     },
     "execution_count": 32,
     "metadata": {},
     "output_type": "execute_result"
    }
   ],
   "source": [
    "test.query('testgroup == \"b\"').revenue.unique()"
   ]
  },
  {
   "cell_type": "code",
   "execution_count": 33,
   "metadata": {},
   "outputs": [
    {
     "data": {
      "text/html": [
       "<div>\n",
       "<style scoped>\n",
       "    .dataframe tbody tr th:only-of-type {\n",
       "        vertical-align: middle;\n",
       "    }\n",
       "\n",
       "    .dataframe tbody tr th {\n",
       "        vertical-align: top;\n",
       "    }\n",
       "\n",
       "    .dataframe thead th {\n",
       "        text-align: right;\n",
       "    }\n",
       "</style>\n",
       "<table border=\"1\" class=\"dataframe\">\n",
       "  <thead>\n",
       "    <tr style=\"text-align: right;\">\n",
       "      <th></th>\n",
       "      <th>count</th>\n",
       "      <th>mean</th>\n",
       "      <th>std</th>\n",
       "      <th>min</th>\n",
       "      <th>25%</th>\n",
       "      <th>50%</th>\n",
       "      <th>75%</th>\n",
       "      <th>max</th>\n",
       "    </tr>\n",
       "    <tr>\n",
       "      <th>testgroup</th>\n",
       "      <th></th>\n",
       "      <th></th>\n",
       "      <th></th>\n",
       "      <th></th>\n",
       "      <th></th>\n",
       "      <th></th>\n",
       "      <th></th>\n",
       "      <th></th>\n",
       "    </tr>\n",
       "  </thead>\n",
       "  <tbody>\n",
       "    <tr>\n",
       "      <th>a</th>\n",
       "      <td>202103.0</td>\n",
       "      <td>25.413720</td>\n",
       "      <td>920.768137</td>\n",
       "      <td>0.0</td>\n",
       "      <td>0.0</td>\n",
       "      <td>0.0</td>\n",
       "      <td>0.0</td>\n",
       "      <td>37433.0</td>\n",
       "    </tr>\n",
       "    <tr>\n",
       "      <th>b</th>\n",
       "      <td>202667.0</td>\n",
       "      <td>26.751287</td>\n",
       "      <td>287.324162</td>\n",
       "      <td>0.0</td>\n",
       "      <td>0.0</td>\n",
       "      <td>0.0</td>\n",
       "      <td>0.0</td>\n",
       "      <td>4000.0</td>\n",
       "    </tr>\n",
       "  </tbody>\n",
       "</table>\n",
       "</div>"
      ],
      "text/plain": [
       "              count       mean         std  min  25%  50%  75%      max\n",
       "testgroup                                                              \n",
       "a          202103.0  25.413720  920.768137  0.0  0.0  0.0  0.0  37433.0\n",
       "b          202667.0  26.751287  287.324162  0.0  0.0  0.0  0.0   4000.0"
      ]
     },
     "execution_count": 33,
     "metadata": {},
     "output_type": "execute_result"
    }
   ],
   "source": [
    "test.groupby('testgroup').revenue.describe()"
   ]
  },
  {
   "cell_type": "code",
   "execution_count": 34,
   "metadata": {},
   "outputs": [
    {
     "data": {
      "text/html": [
       "<div>\n",
       "<style scoped>\n",
       "    .dataframe tbody tr th:only-of-type {\n",
       "        vertical-align: middle;\n",
       "    }\n",
       "\n",
       "    .dataframe tbody tr th {\n",
       "        vertical-align: top;\n",
       "    }\n",
       "\n",
       "    .dataframe thead th {\n",
       "        text-align: right;\n",
       "    }\n",
       "</style>\n",
       "<table border=\"1\" class=\"dataframe\">\n",
       "  <thead>\n",
       "    <tr style=\"text-align: right;\">\n",
       "      <th></th>\n",
       "      <th>count</th>\n",
       "      <th>mean</th>\n",
       "      <th>std</th>\n",
       "      <th>min</th>\n",
       "      <th>25%</th>\n",
       "      <th>50%</th>\n",
       "      <th>75%</th>\n",
       "      <th>max</th>\n",
       "    </tr>\n",
       "    <tr>\n",
       "      <th>testgroup</th>\n",
       "      <th></th>\n",
       "      <th></th>\n",
       "      <th></th>\n",
       "      <th></th>\n",
       "      <th></th>\n",
       "      <th></th>\n",
       "      <th></th>\n",
       "      <th></th>\n",
       "    </tr>\n",
       "  </thead>\n",
       "  <tbody>\n",
       "    <tr>\n",
       "      <th>a</th>\n",
       "      <td>1928.0</td>\n",
       "      <td>2663.998444</td>\n",
       "      <td>9049.039763</td>\n",
       "      <td>200.0</td>\n",
       "      <td>257.0</td>\n",
       "      <td>311.0</td>\n",
       "      <td>361.0</td>\n",
       "      <td>37433.0</td>\n",
       "    </tr>\n",
       "    <tr>\n",
       "      <th>b</th>\n",
       "      <td>1805.0</td>\n",
       "      <td>3003.658172</td>\n",
       "      <td>572.619709</td>\n",
       "      <td>2000.0</td>\n",
       "      <td>2513.0</td>\n",
       "      <td>3022.0</td>\n",
       "      <td>3478.0</td>\n",
       "      <td>4000.0</td>\n",
       "    </tr>\n",
       "  </tbody>\n",
       "</table>\n",
       "</div>"
      ],
      "text/plain": [
       "            count         mean          std     min     25%     50%     75%  \\\n",
       "testgroup                                                                     \n",
       "a          1928.0  2663.998444  9049.039763   200.0   257.0   311.0   361.0   \n",
       "b          1805.0  3003.658172   572.619709  2000.0  2513.0  3022.0  3478.0   \n",
       "\n",
       "               max  \n",
       "testgroup           \n",
       "a          37433.0  \n",
       "b           4000.0  "
      ]
     },
     "execution_count": 34,
     "metadata": {},
     "output_type": "execute_result"
    }
   ],
   "source": [
    "test.query('revenue > 0').groupby('testgroup').revenue.describe()"
   ]
  },
  {
   "cell_type": "markdown",
   "metadata": {},
   "source": [
    "#### Какие метрики мы можем оценить в этом A/B тесте:\n",
    "1. CR конверсию в целевое действие, а именно покупку\n",
    "2. AVG_bill - средний чек\n",
    "3. REP_pur - возвращаемость клиентов\n",
    "4. ARPPU Средний доход на платящего пользователя (то есть клиента)\n",
    "5. ARPU Cредний доход с привлечённого пользователя"
   ]
  },
  {
   "cell_type": "code",
   "execution_count": 35,
   "metadata": {},
   "outputs": [],
   "source": [
    "# Количество пользователей в группах\n",
    "a_num = test.query(\"testgroup == 'a'\").user_id.count()\n",
    "b_num = test.query(\"testgroup == 'b'\").user_id.count()"
   ]
  },
  {
   "cell_type": "code",
   "execution_count": 36,
   "metadata": {},
   "outputs": [],
   "source": [
    "# Количество платящих клиентов (revenue > 0) в группах\n",
    "a_client = test.query(\"testgroup == 'a' and revenue > 0\").revenue.count()\n",
    "b_client = test.query(\"testgroup == 'b' and revenue > 0\").revenue.count()"
   ]
  },
  {
   "cell_type": "code",
   "execution_count": 37,
   "metadata": {},
   "outputs": [],
   "source": [
    "# CR в группах\n",
    "a_cr = a_client / a_num *100\n",
    "b_cr = b_client / b_num *100"
   ]
  },
  {
   "cell_type": "code",
   "execution_count": 38,
   "metadata": {},
   "outputs": [],
   "source": [
    "# Средний чек\n",
    "avg_a = test.query(\"testgroup == 'a' and revenue > 0\").revenue.mean()\n",
    "avg_b = test.query(\"testgroup == 'b' and revenue > 0\").revenue.mean()"
   ]
  },
  {
   "cell_type": "code",
   "execution_count": 39,
   "metadata": {},
   "outputs": [],
   "source": [
    "# Повторные покупки в группах\n",
    "rep_pur_a = a_client / test.query(\"testgroup == 'a' and revenue > 0\").user_id.nunique()\n",
    "rep_pur_b = b_client / test.query(\"testgroup == 'b' and revenue > 0\").user_id.nunique()"
   ]
  },
  {
   "cell_type": "code",
   "execution_count": 40,
   "metadata": {},
   "outputs": [],
   "source": [
    "# Расчет выручки в группах\n",
    "revenue_a = test.query(\"testgroup == 'a'\").revenue.sum()\n",
    "revenue_b = test.query(\"testgroup == 'b'\").revenue.sum()"
   ]
  },
  {
   "cell_type": "code",
   "execution_count": 41,
   "metadata": {},
   "outputs": [],
   "source": [
    "# Расчет ARPPU в группах\n",
    "arppu_a = round(revenue_a / a_client)\n",
    "arppu_b = round(revenue_b / b_client)"
   ]
  },
  {
   "cell_type": "code",
   "execution_count": 42,
   "metadata": {},
   "outputs": [],
   "source": [
    "# Расчет ARPU в группах\n",
    "arpu_a = a_cr * arppu_a\n",
    "arpu_b = b_cr * arppu_b"
   ]
  },
  {
   "cell_type": "code",
   "execution_count": 43,
   "metadata": {},
   "outputs": [],
   "source": [
    "metr_test = pd.DataFrame({'user_num':[a_num, b_num],'client_num':[a_client, b_client], 'CR':[a_cr, b_cr],'Revenue':[revenue_a,revenue_b], \\\n",
    "                          'AVG_bill':[avg_a, avg_b], 'REP_pur':[rep_pur_a, rep_pur_b], 'ARPPU':[arppu_a, arppu_b], 'ARPU':[arpu_a,arpu_b] \\\n",
    "                         } \n",
    "                         , index=['control', 'test'])"
   ]
  },
  {
   "cell_type": "code",
   "execution_count": 44,
   "metadata": {},
   "outputs": [
    {
     "data": {
      "text/html": [
       "<div>\n",
       "<style scoped>\n",
       "    .dataframe tbody tr th:only-of-type {\n",
       "        vertical-align: middle;\n",
       "    }\n",
       "\n",
       "    .dataframe tbody tr th {\n",
       "        vertical-align: top;\n",
       "    }\n",
       "\n",
       "    .dataframe thead th {\n",
       "        text-align: right;\n",
       "    }\n",
       "</style>\n",
       "<table border=\"1\" class=\"dataframe\">\n",
       "  <thead>\n",
       "    <tr style=\"text-align: right;\">\n",
       "      <th></th>\n",
       "      <th>user_num</th>\n",
       "      <th>client_num</th>\n",
       "      <th>CR</th>\n",
       "      <th>Revenue</th>\n",
       "      <th>AVG_bill</th>\n",
       "      <th>REP_pur</th>\n",
       "      <th>ARPPU</th>\n",
       "      <th>ARPU</th>\n",
       "    </tr>\n",
       "  </thead>\n",
       "  <tbody>\n",
       "    <tr>\n",
       "      <th>control</th>\n",
       "      <td>202103</td>\n",
       "      <td>1928</td>\n",
       "      <td>0.953969</td>\n",
       "      <td>5136189</td>\n",
       "      <td>2663.998444</td>\n",
       "      <td>1.0</td>\n",
       "      <td>2664</td>\n",
       "      <td>2541.373458</td>\n",
       "    </tr>\n",
       "    <tr>\n",
       "      <th>test</th>\n",
       "      <td>202667</td>\n",
       "      <td>1805</td>\n",
       "      <td>0.890624</td>\n",
       "      <td>5421603</td>\n",
       "      <td>3003.658172</td>\n",
       "      <td>1.0</td>\n",
       "      <td>3004</td>\n",
       "      <td>2675.433100</td>\n",
       "    </tr>\n",
       "  </tbody>\n",
       "</table>\n",
       "</div>"
      ],
      "text/plain": [
       "         user_num  client_num        CR  Revenue     AVG_bill  REP_pur  ARPPU  \\\n",
       "control    202103        1928  0.953969  5136189  2663.998444      1.0   2664   \n",
       "test       202667        1805  0.890624  5421603  3003.658172      1.0   3004   \n",
       "\n",
       "                ARPU  \n",
       "control  2541.373458  \n",
       "test     2675.433100  "
      ]
     },
     "execution_count": 44,
     "metadata": {},
     "output_type": "execute_result"
    }
   ],
   "source": [
    "metr_test"
   ]
  },
  {
   "cell_type": "markdown",
   "metadata": {},
   "source": [
    "### Проверим группы на нормальность\n",
    "Вспомним, как выглядела гистограмма, паспределения не выглядят нормально"
   ]
  },
  {
   "cell_type": "code",
   "execution_count": 45,
   "metadata": {},
   "outputs": [
    {
     "data": {
      "text/plain": [
       "<matplotlib.axes._subplots.AxesSubplot at 0x7fa5498a4828>"
      ]
     },
     "execution_count": 45,
     "metadata": {},
     "output_type": "execute_result"
    },
    {
     "data": {
      "image/png": "[encoded data removed]",
      "text/plain": [
       "<Figure size 432x288 with 1 Axes>"
      ]
     },
     "metadata": {
      "needs_background": "light"
     },
     "output_type": "display_data"
    }
   ],
   "source": [
    "sns.histplot(test.query('revenue > 0'), x='revenue', hue='testgroup')"
   ]
  },
  {
   "cell_type": "markdown",
   "metadata": {},
   "source": [
    "Посмотрим на боксплот.\n",
    "Размер ящиков и длины усов сильно различаются, что говорит о некорректности сравнения таких групп"
   ]
  },
  {
   "cell_type": "code",
   "execution_count": 46,
   "metadata": {},
   "outputs": [
    {
     "data": {
      "text/plain": [
       "<matplotlib.axes._subplots.AxesSubplot at 0x7fa54a2b8208>"
      ]
     },
     "execution_count": 46,
     "metadata": {},
     "output_type": "execute_result"
    },
    {
     "data": {
      "image/png": "[encoded data removed]",
      "text/plain": [
       "<Figure size 432x288 with 1 Axes>"
      ]
     },
     "metadata": {
      "needs_background": "light"
     },
     "output_type": "display_data"
    }
   ],
   "source": [
    " sns.boxplot(x=\"testgroup\" , y=\"revenue\", data=test.query('revenue > 0'), palette=[\"r\", \"b\"])"
   ]
  },
  {
   "cell_type": "code",
   "execution_count": 47,
   "metadata": {},
   "outputs": [
    {
     "data": {
      "text/plain": [
       "<matplotlib.axes._subplots.AxesSubplot at 0x7fa5b1e68a90>"
      ]
     },
     "execution_count": 47,
     "metadata": {},
     "output_type": "execute_result"
    },
    {
     "data": {
      "image/png": "[encoded data removed]",
      "text/plain": [
       "<Figure size 432x288 with 1 Axes>"
      ]
     },
     "metadata": {
      "needs_background": "light"
     },
     "output_type": "display_data"
    }
   ],
   "source": [
    "sns.boxplot(x=\"testgroup\" , y=\"revenue\", data=test.query('revenue > 0 & revenue < 10000'), palette=[\"r\", \"b\"])"
   ]
  },
  {
   "cell_type": "markdown",
   "metadata": {},
   "source": [
    "Думаю, что не стоит удалять выбросы, для достижения лучшего вида в распределении, \n",
    "так как выброс в группе 'а' состовляет почти 90% выручки у этой группы."
   ]
  },
  {
   "cell_type": "code",
   "execution_count": 48,
   "metadata": {},
   "outputs": [
    {
     "data": {
      "text/plain": [
       "testgroup\n",
       "a    0.893708\n",
       "b    1.000000\n",
       "Name: revenue, dtype: float64"
      ]
     },
     "execution_count": 48,
     "metadata": {},
     "output_type": "execute_result"
    }
   ],
   "source": [
    "test.query('revenue > 1000').groupby('testgroup').revenue.sum() / test.groupby('testgroup').revenue.sum()"
   ]
  },
  {
   "cell_type": "code",
   "execution_count": 49,
   "metadata": {},
   "outputs": [
    {
     "data": {
      "text/html": [
       "<div>\n",
       "<style scoped>\n",
       "    .dataframe tbody tr th:only-of-type {\n",
       "        vertical-align: middle;\n",
       "    }\n",
       "\n",
       "    .dataframe tbody tr th {\n",
       "        vertical-align: top;\n",
       "    }\n",
       "\n",
       "    .dataframe thead th {\n",
       "        text-align: right;\n",
       "    }\n",
       "</style>\n",
       "<table border=\"1\" class=\"dataframe\">\n",
       "  <thead>\n",
       "    <tr style=\"text-align: right;\">\n",
       "      <th></th>\n",
       "      <th>user_id</th>\n",
       "      <th>revenue</th>\n",
       "    </tr>\n",
       "    <tr>\n",
       "      <th>testgroup</th>\n",
       "      <th></th>\n",
       "      <th></th>\n",
       "    </tr>\n",
       "  </thead>\n",
       "  <tbody>\n",
       "    <tr>\n",
       "      <th>a</th>\n",
       "      <td>40912124939</td>\n",
       "      <td>545937</td>\n",
       "    </tr>\n",
       "    <tr>\n",
       "      <th>b</th>\n",
       "      <td>40610890428</td>\n",
       "      <td>0</td>\n",
       "    </tr>\n",
       "  </tbody>\n",
       "</table>\n",
       "</div>"
      ],
      "text/plain": [
       "               user_id  revenue\n",
       "testgroup                      \n",
       "a          40912124939   545937\n",
       "b          40610890428        0"
      ]
     },
     "execution_count": 49,
     "metadata": {},
     "output_type": "execute_result"
    }
   ],
   "source": [
    "test.query('revenue < 1000').groupby('testgroup').sum()"
   ]
  },
  {
   "cell_type": "code",
   "execution_count": 50,
   "metadata": {},
   "outputs": [],
   "source": [
    "a = test.query('testgroup == \"a\"').revenue \n",
    "b = test.query('testgroup == \"b\"').revenue"
   ]
  },
  {
   "cell_type": "markdown",
   "metadata": {},
   "source": [
    "#### И дополнительно проверяем выборки тестом Шапиро \n",
    "хотим получить р-уровень значимости больше 0.05, для подтверждения нормальности"
   ]
  },
  {
   "cell_type": "code",
   "execution_count": 51,
   "metadata": {},
   "outputs": [
    {
     "data": {
      "text/html": [
       "<div>\n",
       "<style scoped>\n",
       "    .dataframe tbody tr th:only-of-type {\n",
       "        vertical-align: middle;\n",
       "    }\n",
       "\n",
       "    .dataframe tbody tr th {\n",
       "        vertical-align: top;\n",
       "    }\n",
       "\n",
       "    .dataframe thead th {\n",
       "        text-align: right;\n",
       "    }\n",
       "</style>\n",
       "<table border=\"1\" class=\"dataframe\">\n",
       "  <thead>\n",
       "    <tr style=\"text-align: right;\">\n",
       "      <th></th>\n",
       "      <th>W</th>\n",
       "      <th>pval</th>\n",
       "      <th>normal</th>\n",
       "    </tr>\n",
       "  </thead>\n",
       "  <tbody>\n",
       "    <tr>\n",
       "      <th>b</th>\n",
       "      <td>0.065882</td>\n",
       "      <td>0.0</td>\n",
       "      <td>False</td>\n",
       "    </tr>\n",
       "    <tr>\n",
       "      <th>a</th>\n",
       "      <td>0.008877</td>\n",
       "      <td>0.0</td>\n",
       "      <td>False</td>\n",
       "    </tr>\n",
       "  </tbody>\n",
       "</table>\n",
       "</div>"
      ],
      "text/plain": [
       "          W  pval  normal\n",
       "b  0.065882   0.0   False\n",
       "a  0.008877   0.0   False"
      ]
     },
     "execution_count": 51,
     "metadata": {},
     "output_type": "execute_result"
    }
   ],
   "source": [
    "pg.normality(data=test, dv=\"revenue\", group=\"testgroup\")"
   ]
  },
  {
   "cell_type": "markdown",
   "metadata": {},
   "source": [
    "#### Резултаты теста указывают на то, что распределения не явлются нормальными"
   ]
  },
  {
   "cell_type": "code",
   "execution_count": 52,
   "metadata": {},
   "outputs": [
    {
     "data": {
      "text/html": [
       "<div>\n",
       "<style scoped>\n",
       "    .dataframe tbody tr th:only-of-type {\n",
       "        vertical-align: middle;\n",
       "    }\n",
       "\n",
       "    .dataframe tbody tr th {\n",
       "        vertical-align: top;\n",
       "    }\n",
       "\n",
       "    .dataframe thead th {\n",
       "        text-align: right;\n",
       "    }\n",
       "</style>\n",
       "<table border=\"1\" class=\"dataframe\">\n",
       "  <thead>\n",
       "    <tr style=\"text-align: right;\">\n",
       "      <th></th>\n",
       "      <th>user_num</th>\n",
       "      <th>client_num</th>\n",
       "      <th>CR</th>\n",
       "      <th>Revenue</th>\n",
       "      <th>AVG_bill</th>\n",
       "      <th>REP_pur</th>\n",
       "      <th>ARPPU</th>\n",
       "      <th>ARPU</th>\n",
       "    </tr>\n",
       "  </thead>\n",
       "  <tbody>\n",
       "    <tr>\n",
       "      <th>control</th>\n",
       "      <td>202103</td>\n",
       "      <td>1928</td>\n",
       "      <td>0.953969</td>\n",
       "      <td>5136189</td>\n",
       "      <td>2663.998444</td>\n",
       "      <td>1.0</td>\n",
       "      <td>2664</td>\n",
       "      <td>2541.373458</td>\n",
       "    </tr>\n",
       "    <tr>\n",
       "      <th>test</th>\n",
       "      <td>202667</td>\n",
       "      <td>1805</td>\n",
       "      <td>0.890624</td>\n",
       "      <td>5421603</td>\n",
       "      <td>3003.658172</td>\n",
       "      <td>1.0</td>\n",
       "      <td>3004</td>\n",
       "      <td>2675.433100</td>\n",
       "    </tr>\n",
       "  </tbody>\n",
       "</table>\n",
       "</div>"
      ],
      "text/plain": [
       "         user_num  client_num        CR  Revenue     AVG_bill  REP_pur  ARPPU  \\\n",
       "control    202103        1928  0.953969  5136189  2663.998444      1.0   2664   \n",
       "test       202667        1805  0.890624  5421603  3003.658172      1.0   3004   \n",
       "\n",
       "                ARPU  \n",
       "control  2541.373458  \n",
       "test     2675.433100  "
      ]
     },
     "execution_count": 52,
     "metadata": {},
     "output_type": "execute_result"
    }
   ],
   "source": [
    "# Выберем метрику по которой хотим определить различия, используя стат тест.\n",
    "metr_test"
   ]
  },
  {
   "cell_type": "markdown",
   "metadata": {},
   "source": [
    "### Оценим конверсию в покупку. \n",
    "Можем представить данные о выручке как категориальные, где revenue >0 -целевое действие, <br>\n",
    "revenue < 0 - отсутсвие целевого действия, добавим еще один столбец (noclient_num) к таблице метрик. <br>\n",
    "Теперь можем применить Хи-квадрат для оценки различий.<br>\n",
    "Н0: Значимых отличий между конверсией в покупку в группах нет.<br>\n",
    "Н1: Значимые отличия между конверсией в покупку в группах есть.<br>"
   ]
  },
  {
   "cell_type": "markdown",
   "metadata": {},
   "source": [
    "<!-- Можем представить данные о выручке как категориальные, \n",
    "где revenue >0 -целевое действие, revenue < 0 - отсутсвие целевого действия, добавим еще один столбец (noclient_num) к таблице метрик. \n",
    "Теперь можем применить Хи-квадрат для оценки различий. \n",
    "Н0: Значимых отличий между конверсией в покупку в группах нет. \n",
    "Н1: Значимые отличия между конверсией в покупку в группах есть. -->"
   ]
  },
  {
   "cell_type": "code",
   "execution_count": 53,
   "metadata": {},
   "outputs": [],
   "source": [
    "metr_test['noclient_num'] = metr_test.user_num - metr_test.client_num\n",
    "a_noclient = a_num - a_client\n",
    "b_noclient = b_num - b_client"
   ]
  },
  {
   "cell_type": "code",
   "execution_count": 54,
   "metadata": {},
   "outputs": [],
   "source": [
    "# Create np array\n",
    "T = np.array([[a_client, a_noclient], [b_client, b_noclient]])"
   ]
  },
  {
   "cell_type": "code",
   "execution_count": 55,
   "metadata": {},
   "outputs": [
    {
     "data": {
      "text/plain": [
       "0.0350285246428554"
      ]
     },
     "execution_count": 55,
     "metadata": {},
     "output_type": "execute_result"
    }
   ],
   "source": [
    "ss.chi2_contingency(T,correction=False)[1]"
   ]
  },
  {
   "cell_type": "markdown",
   "metadata": {},
   "source": [
    "#### По результатам теста отвергаем Н0 и принимаем альтернативную гипотезу. Разница конверсии в покупку (6%) в группах является статистически значимой."
   ]
  },
  {
   "cell_type": "markdown",
   "metadata": {},
   "source": [
    "### Сравним ARPPU по группам\n",
    "\n",
    "Поскольку распреледение ненормально и дисперсии в группах различаются, предлагаю применить bootstrap.\n",
    "\n",
    "Применим bootstrap <br>\n",
    "H0: Разницы между средним доходом от платящего пользователя в группах нет<br>\n",
    "H1: Разница между средним доходом от платящего пользователя в группах есть"
   ]
  },
  {
   "cell_type": "code",
   "execution_count": 56,
   "metadata": {},
   "outputs": [],
   "source": [
    "test_a_arppu = test.query('revenue>0 and testgroup ==\"a\"')"
   ]
  },
  {
   "cell_type": "code",
   "execution_count": 57,
   "metadata": {},
   "outputs": [],
   "source": [
    "test_b_arppu = test.query('revenue>0 and testgroup ==\"b\"')"
   ]
  },
  {
   "cell_type": "code",
   "execution_count": 58,
   "metadata": {},
   "outputs": [],
   "source": [
    "means_diff=[]"
   ]
  },
  {
   "cell_type": "code",
   "execution_count": 59,
   "metadata": {},
   "outputs": [],
   "source": [
    "n=1000\n",
    "# Извлекаем подвыборки\n",
    "for i in range(n):\n",
    "    a_mix = test_a_arppu.revenue.sample(frac=1, replace=True)\n",
    "    a_mix_mean = a_mix.mean()\n",
    "    \n",
    "    b_mix = test_b_arppu.revenue.sample(frac=1, replace=True)\n",
    "    b_mix_mean = b_mix.mean()\n",
    "\n",
    "    # Добавляем в список means_diff разницу между средними\n",
    "    means_diff.append(a_mix_mean - b_mix_mean)"
   ]
  },
  {
   "cell_type": "code",
   "execution_count": 60,
   "metadata": {},
   "outputs": [],
   "source": [
    "means = pd.DataFrame(means_diff)"
   ]
  },
  {
   "cell_type": "code",
   "execution_count": 61,
   "metadata": {},
   "outputs": [],
   "source": [
    "# Расчитываем границы доверительного интервала\n",
    "left = pd.Series(means_diff).quantile(0.975)\n",
    "right = pd.Series(means_diff).quantile(0.025)\n",
    "\n",
    "quants = ([left, right])"
   ]
  },
  {
   "cell_type": "code",
   "execution_count": null,
   "metadata": {},
   "outputs": [],
   "source": [
    "plt.hist(means[0], bins=50, color='grey')\n",
    "plt.style.use('ggplot')\n",
    "plt.axvline(x=0, color='blue', linestyle='--')\n",
    "plt.axvline(x=left, color='red', linestyle='--')\n",
    "plt.axvline(x=right, color='red', linestyle='--')\n",
    "plt.xlabel('ARPPU')\n",
    "plt.show()"
   ]
  },
  {
   "cell_type": "markdown",
   "metadata": {},
   "source": [
    "#### По результатам теста принимаем Н0, статистически значимой разницы между ARPPU в группах нет. На графике 0 попадает в доверительный интервал.\n",
    "#### Ответ: Несмотря на увеличение метрики ARPPU в тестовой группе, оно не является стат значимым, а CR в покупку ухудшилась стат значимо, принимая это во внимание, предлагается оставить акционные предложения из контрольной группы. \n"
   ]
  },
  {
   "cell_type": "markdown",
   "metadata": {},
   "source": [
    "## Задание 3\n",
    "В игре Plants & Gardens каждый месяц проводятся тематические события, ограниченные по времени. В них игроки могут получить уникальные предметы для сада и персонажей, дополнительные монеты или бонусы. Для получения награды требуется пройти ряд уровней за определенное время. С помощью каких метрик можно оценить результаты последнего прошедшего события?\n",
    "\n",
    "Предположим, в другом событии мы усложнили механику событий так, к, что при каждой неудачной попытке выполнения уровня игрок будет откатываться на несколько уровней назад. Изменится ли набор метрик оценки результата? Если да, то как?\n",
    "\n",
    "### Ответ:\n",
    "\n",
    "Предположим, что retention, который мы считали в первом задании был для этой игры. Тогда можно предположить, что увеличение возвращаемости игроков на 6 день связанно с тем, что в игре присутсвует такое событие для новых игроков, ограниченное по дням.\n",
    "Результаты прошедшего события можно оценить с помощью следующих метрик: \n",
    "\n",
    "Клиенских:\n",
    "Retention - покажет как события влияет на удержание клиентов\n",
    "Дневная аудитория (DAU) — покажет количество уникальных пользователей, которые зашли в приложение в течение суток.\n",
    "Месячная аудитория (MAU) — количество уникальных пользователей, которые зашли в приложение в течение месяца. По отношению средней дневной аудитории к месячной можно понимать частоту использования продукта.\n",
    "avg. DAU/MAU = stickness ratio — коэффициент того, насколько часто пользователи, в течение одного периода (одного события), \"остаются\" в продукте\n",
    "Воронка в следующий этап\n",
    "\n",
    "Денежных:\n",
    "Revenue - доход который компания получила за время события\n",
    "CR- конверсия в покупку за время проведения события.\n",
    "ARPPU - Средний доход на платящего пользователя, если он купил что-то за время события\n",
    "ARPU - Средний доход на пользователя за время события\n",
    "\n",
    "При усложнении механики событий, оставила бы те же метрики, но большее внимание уделила бы: Воронке в следующий уровень, avg. DAU/MAU = stickness ratio, чтобы сравнить это с перидом без аналогичного события и понять насколько сильно такая механика не нравится пользователям."
   ]
  },
  {
   "cell_type": "code",
   "execution_count": null,
   "metadata": {},
   "outputs": [],
   "source": []
  }
 ],
 "metadata": {
  "kernelspec": {
   "display_name": "Python 3",
   "language": "python",
   "name": "python3"
  },
  "language_info": {
   "codemirror_mode": {
    "name": "ipython",
    "version": 3
   },
   "file_extension": ".py",
   "mimetype": "text/x-python",
   "name": "python",
   "nbconvert_exporter": "python",
   "pygments_lexer": "ipython3",
   "version": "3.7.3"
  }
 },
 "nbformat": 4,
 "nbformat_minor": 5
}
